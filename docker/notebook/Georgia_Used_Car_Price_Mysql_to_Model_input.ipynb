{
 "cells": [
  {
   "cell_type": "markdown",
   "metadata": {},
   "source": [
    "# DB 와 자료준비"
   ]
  },
  {
   "cell_type": "markdown",
   "metadata": {},
   "source": [
    "매번 인터넷으로 받아오면 시간이 너무 오래 걸리기에, csv 파일로 내보내진 파일을 불러와서 DB 에 넣고 바로 시작한다."
   ]
  },
  {
   "cell_type": "code",
   "execution_count": 1,
   "metadata": {
    "ExecuteTime": {
     "end_time": "2018-04-10T01:06:39.178319Z",
     "start_time": "2018-04-10T01:06:37.591210Z"
    }
   },
   "outputs": [
    {
     "name": "stdout",
     "output_type": "stream",
     "text": [
      "2018-04-12 19:41:38,949 INFO sqlalchemy.engine.base.Engine SHOW VARIABLES LIKE 'sql_mode'\n",
      "2018-04-12 19:41:38,950 INFO sqlalchemy.engine.base.Engine ()\n",
      "2018-04-12 19:41:38,955 INFO sqlalchemy.engine.base.Engine SELECT DATABASE()\n",
      "2018-04-12 19:41:38,956 INFO sqlalchemy.engine.base.Engine ()\n",
      "2018-04-12 19:41:38,958 INFO sqlalchemy.engine.base.Engine show collation where `Charset` = 'utf8' and `Collation` = 'utf8_bin'\n",
      "2018-04-12 19:41:38,958 INFO sqlalchemy.engine.base.Engine ()\n",
      "2018-04-12 19:41:38,960 INFO sqlalchemy.engine.base.Engine SELECT CAST('test plain returns' AS CHAR(60)) AS anon_1\n",
      "2018-04-12 19:41:38,961 INFO sqlalchemy.engine.base.Engine ()\n",
      "2018-04-12 19:41:38,962 INFO sqlalchemy.engine.base.Engine SELECT CAST('test unicode returns' AS CHAR(60)) AS anon_1\n",
      "2018-04-12 19:41:38,963 INFO sqlalchemy.engine.base.Engine ()\n",
      "2018-04-12 19:41:38,964 INFO sqlalchemy.engine.base.Engine SELECT CAST('test collated returns' AS CHAR CHARACTER SET utf8) COLLATE utf8_bin AS anon_1\n",
      "2018-04-12 19:41:38,964 INFO sqlalchemy.engine.base.Engine ()\n",
      "2018-04-12 19:41:38,966 INFO sqlalchemy.engine.base.Engine DESCRIBE `used_car`\n",
      "2018-04-12 19:41:38,966 INFO sqlalchemy.engine.base.Engine ()\n",
      "2018-04-12 19:41:39,011 INFO sqlalchemy.engine.base.Engine DESCRIBE `used_car`\n",
      "2018-04-12 19:41:39,012 INFO sqlalchemy.engine.base.Engine ()\n",
      "2018-04-12 19:41:39,020 INFO sqlalchemy.engine.base.Engine DESCRIBE `used_car`\n",
      "2018-04-12 19:41:39,021 INFO sqlalchemy.engine.base.Engine ()\n",
      "2018-04-12 19:41:39,022 INFO sqlalchemy.engine.base.Engine SHOW FULL TABLES FROM `used_car`\n",
      "2018-04-12 19:41:39,022 INFO sqlalchemy.engine.base.Engine ()\n",
      "2018-04-12 19:41:39,059 INFO sqlalchemy.engine.base.Engine SHOW CREATE TABLE `used_car`\n",
      "2018-04-12 19:41:39,060 INFO sqlalchemy.engine.base.Engine ()\n",
      "2018-04-12 19:41:39,071 INFO sqlalchemy.engine.base.Engine \n",
      "DROP TABLE used_car\n",
      "2018-04-12 19:41:39,072 INFO sqlalchemy.engine.base.Engine ()\n",
      "2018-04-12 19:41:39,099 INFO sqlalchemy.engine.base.Engine COMMIT\n",
      "2018-04-12 19:41:39,105 INFO sqlalchemy.engine.base.Engine \n",
      "CREATE TABLE used_car (\n",
      "\t`index` BIGINT, \n",
      "\t`Unnamed: 0` BIGINT, \n",
      "\tcompany TEXT, \n",
      "\tdrivertrain TEXT, \n",
      "\texterior_color TEXT, \n",
      "\tinterior_color TEXT, \n",
      "\tmile BIGINT, \n",
      "\tphotos BIGINT, \n",
      "\tprice BIGINT, \n",
      "\treview_no BIGINT, \n",
      "\tstar FLOAT(53), \n",
      "\tsubname TEXT, \n",
      "\ttitle TEXT, \n",
      "\ttransmission TEXT, \n",
      "\tvendor TEXT, \n",
      "\tvideo BIGINT, \n",
      "\tyear BIGINT\n",
      ")\n",
      "\n",
      "\n",
      "2018-04-12 19:41:39,106 INFO sqlalchemy.engine.base.Engine ()\n",
      "2018-04-12 19:41:39,155 INFO sqlalchemy.engine.base.Engine COMMIT\n",
      "2018-04-12 19:41:39,156 INFO sqlalchemy.engine.base.Engine CREATE INDEX ix_used_car_index ON used_car (`index`)\n",
      "2018-04-12 19:41:39,157 INFO sqlalchemy.engine.base.Engine ()\n"
     ]
    },
    {
     "name": "stderr",
     "output_type": "stream",
     "text": [
      "/opt/conda/lib/python3.6/site-packages/sqlalchemy/dialects/mysql/base.py:1569: Warning: (1287, \"'@@tx_isolation' is deprecated and will be removed in a future release. Please use '@@transaction_isolation' instead\")\n",
      "  cursor.execute('SELECT @@tx_isolation')\n"
     ]
    },
    {
     "name": "stdout",
     "output_type": "stream",
     "text": [
      "2018-04-12 19:41:39,188 INFO sqlalchemy.engine.base.Engine COMMIT\n",
      "2018-04-12 19:41:39,196 INFO sqlalchemy.engine.base.Engine BEGIN (implicit)\n",
      "2018-04-12 19:41:39,270 INFO sqlalchemy.engine.base.Engine INSERT INTO used_car (`index`, `Unnamed: 0`, company, drivertrain, exterior_color, interior_color, mile, photos, price, review_no, star, subname, title, transmission, vendor, video, year) VALUES (%s, %s, %s, %s, %s, %s, %s, %s, %s, %s, %s, %s, %s, %s, %s, %s, %s)\n",
      "2018-04-12 19:41:39,270 INFO sqlalchemy.engine.base.Engine ((0, 0, 'Subaru', '4wd', 'Desert Khaki', 'Black', 26525, 23, 17999, 43, 5.0, 'Crosstrek', 'Subaru Crosstrek 2.0i', '5-speed', '1st Choice Autos', 1, 2016), (1, 1, 'Mazda', '4wd', 'Silver', 'Gray', 118205, 21, 3750, 43, 5.0, 'Tribute', 'Mazda Tribute LX V6', '4-speed', '1st Choice Autos', 1, 2003), (2, 2, 'Ford', '4wd', 'Race Red', 'Black', 2330, 32, 53900, 244, 5.0, 'F-150', 'Ford F-150 Raptor', '1-speed', 'Gilbert & Baugh Ford', 1, 2018), (3, 3, 'Porsche', '4wd', 'Gray', 'Black', 14698, 32, 89997, 10, 5.0, 'Cayman', 'Porsche Cayman GT4', '6-speed', 'Exclusive Auto Wholesale', 1, 2016), (4, 4, 'Chevrolet', '4wd', 'Red Hot', 'Jet Black', 1704, 32, 24000, 117, 5.0, 'Camaro', 'Chevrolet Camaro LT', '8-speed', 'Subaru of Gainesville', 1, 2017), (5, 5, 'Mercedes-Benz', 'rwd', 'Palladium Silver Metallic', 'Silk Beige / Espresso Brown', 121078, 32, 32991, 939, 5.0, 'S', 'Mercedes-Benz S 550', '7-speed', 'Hendrick BMW', 1, 2014), (6, 6, 'INFINITI', 'rwd', 'Platinum', 'Black', 31736, 26, 19998, 18, 5.0, 'Q50', 'INFINITI Q50 3.0T Premium', '7-speed', 'Hertz Car Sales Winston-Salem', 1, 2017), (7, 7, 'Audi', '4wd', 'Silver Metallic', 'Black', 57171, 32, 14500, 201, 5.0, 'TT', 'Audi TT 3.2 quattro', '6-speed', 'CarLotz Greensboro', 1, 2008)  ... displaying 10 of 4900 total bound parameter sets ...  (4898, 4898, 'Cadillac', '4wd', 'Black', 'Black', 15127, 32, 61999, 6967, 5.0, 'Escalade', 'Cadillac Escalade Premium', '8-speed', 'Northwest Motorsport - Puyallup', 1, 2016), (4899, 4899, 'Chevrolet', '4wd', 'Red', 'Gray', 24866, 32, 41999, 6967, 5.0, 'Tahoe', 'Chevrolet Tahoe LT', '6-speed', 'Northwest Motorsport - Puyallup', 1, 2016))\n",
      "2018-04-12 19:41:39,728 INFO sqlalchemy.engine.base.Engine COMMIT\n"
     ]
    }
   ],
   "source": [
    "import pandas as pd # 데이터프레임워크\n",
    "from sqlalchemy import create_engine # 데이터베이스 툴킷\n",
    "#### create table\n",
    "# http://docs.sqlalchemy.org/en/latest/orm/tutorial.html\n",
    "from sqlalchemy.ext.declarative import declarative_base\n",
    "Base = declarative_base()\n",
    "\n",
    "# types \n",
    "# http://docs.sqlalchemy.org/en/latest/core/type_basics.html\n",
    "from sqlalchemy import Column, Integer, String, Float\n",
    "\n",
    "class UsedCar(Base):\n",
    "    __tablename__ = 'used_car'\n",
    "\n",
    "    id = Column(Integer, primary_key=True) \n",
    "    year = Column(Integer)\n",
    "    brand = Column(String(16))\n",
    "    model = Column(String(16))\n",
    "    title = Column(String(16))\n",
    "    miles = Column(Integer)\n",
    "    vendor = Column(String(16))\n",
    "    photos = Column(Integer)\n",
    "    video = Column(Integer)\n",
    "    exterior_color = Column(String(16))\n",
    "    interior_color = Column(String(16))\n",
    "    transmission = Column(String(16))\n",
    "    drivertrain = Column(String(16))\n",
    "    star = Column(Float)\n",
    "    review_no = Column(String(16))\n",
    "    price = Column(Integer)\n",
    "\n",
    "    def __repr__(self):\n",
    "        return rtform % (\n",
    "                        self.id, self.year, self.brand, self.model, \n",
    "                        self.title, self.miles, self.vendor, \n",
    "                        self.photos, self.video, self.exterior_color, \n",
    "                        self.interior_color, self.transmission, self.drivertrain, \n",
    "                        self.star, self.review_no, self.price, )\n",
    "    \n",
    "    rtform = \"<UsedCar(id = '%s', year = '%s', brand = '%s', model = '%s',title = '%s', miles = '%s', vendor = '%s', photos = '%s', video = '%s', exterior_color = '%s', interior_color = '%s', transmission = '%s', drivertrain = '%s', star = '%s', review_no = '%s', price = '%s)>\"\n",
    "\n",
    "UsedCar.__table__\n",
    "\n",
    "import pickle\n",
    "    \n",
    "pw = pickle.load(open('./Data/pw.plk','rb'))\n",
    "\n",
    "# write local car_info\n",
    "#engine = create_engine(\"mysql+mysqldb://root:\" + pw.data + \"@127.0.0.1/car_info\", echo=True)\n",
    "engine = create_engine(\"mysql+mysqldb://root:\"+ pw +\"@db/used_car\", echo=True)\n",
    "    \n",
    "Base.metadata.create_all(engine)\n",
    "\n",
    "\n",
    "\n",
    "df= pd.read_csv('car_info.csv')\n",
    "df.to_sql(name=\"used_car\", con=engine, if_exists='replace')"
   ]
  },
  {
   "cell_type": "markdown",
   "metadata": {},
   "source": [
    "# 의존성 설치"
   ]
  },
  {
   "cell_type": "code",
   "execution_count": 41,
   "metadata": {
    "ExecuteTime": {
     "end_time": "2018-04-10T01:06:43.018885Z",
     "start_time": "2018-04-10T01:06:43.012210Z"
    }
   },
   "outputs": [],
   "source": [
    "import MySQLdb, pickle\n",
    "import pandas as pd\n",
    "import numpy as np\n",
    "from sqlalchemy import create_engine\n",
    "from collections import Counter\n",
    "from matplotlib import pyplot as plt"
   ]
  },
  {
   "cell_type": "code",
   "execution_count": 25,
   "metadata": {
    "ExecuteTime": {
     "end_time": "2018-04-10T01:06:44.211393Z",
     "start_time": "2018-04-10T01:06:44.076681Z"
    }
   },
   "outputs": [
    {
     "data": {
      "text/html": [
       "<div>\n",
       "<style scoped>\n",
       "    .dataframe tbody tr th:only-of-type {\n",
       "        vertical-align: middle;\n",
       "    }\n",
       "\n",
       "    .dataframe tbody tr th {\n",
       "        vertical-align: top;\n",
       "    }\n",
       "\n",
       "    .dataframe thead th {\n",
       "        text-align: right;\n",
       "    }\n",
       "</style>\n",
       "<table border=\"1\" class=\"dataframe\">\n",
       "  <thead>\n",
       "    <tr style=\"text-align: right;\">\n",
       "      <th></th>\n",
       "      <th>index</th>\n",
       "      <th>brand</th>\n",
       "      <th>drivetrain</th>\n",
       "      <th>exterior_color</th>\n",
       "      <th>interior_color</th>\n",
       "      <th>miles</th>\n",
       "      <th>model</th>\n",
       "      <th>photos</th>\n",
       "      <th>price</th>\n",
       "      <th>review_no</th>\n",
       "      <th>star</th>\n",
       "      <th>title</th>\n",
       "      <th>transmission</th>\n",
       "      <th>vendor</th>\n",
       "      <th>video</th>\n",
       "      <th>year</th>\n",
       "    </tr>\n",
       "  </thead>\n",
       "  <tbody>\n",
       "    <tr>\n",
       "      <th>0</th>\n",
       "      <td>0</td>\n",
       "      <td>BMW</td>\n",
       "      <td>rwd</td>\n",
       "      <td>Black Sapphire Metallic</td>\n",
       "      <td>Amaro Brown</td>\n",
       "      <td>78534</td>\n",
       "      <td>535</td>\n",
       "      <td>32</td>\n",
       "      <td>24449</td>\n",
       "      <td>81</td>\n",
       "      <td>5.0</td>\n",
       "      <td>BMW 535 i</td>\n",
       "      <td>8-speed</td>\n",
       "      <td>Amazing Luxury Cars - Snellville</td>\n",
       "      <td>0</td>\n",
       "      <td>2015</td>\n",
       "    </tr>\n",
       "    <tr>\n",
       "      <th>1</th>\n",
       "      <td>1</td>\n",
       "      <td>Bentley</td>\n",
       "      <td>4wd</td>\n",
       "      <td>Beluga</td>\n",
       "      <td>Beluga</td>\n",
       "      <td>2319</td>\n",
       "      <td>Bentayga</td>\n",
       "      <td>32</td>\n",
       "      <td>179801</td>\n",
       "      <td>620</td>\n",
       "      <td>5.0</td>\n",
       "      <td>Bentley Bentayga W12 Signature</td>\n",
       "      <td>8-speed</td>\n",
       "      <td>Select Luxury Cars</td>\n",
       "      <td>0</td>\n",
       "      <td>2018</td>\n",
       "    </tr>\n",
       "    <tr>\n",
       "      <th>2</th>\n",
       "      <td>2</td>\n",
       "      <td>Mercedes-Benz</td>\n",
       "      <td>4wd</td>\n",
       "      <td>Steel Gray Metallic</td>\n",
       "      <td>Black</td>\n",
       "      <td>7478</td>\n",
       "      <td>AMG</td>\n",
       "      <td>32</td>\n",
       "      <td>87999</td>\n",
       "      <td>0</td>\n",
       "      <td>0.0</td>\n",
       "      <td>Mercedes-Benz AMG GT S</td>\n",
       "      <td>7-speed</td>\n",
       "      <td>Drive A Dream</td>\n",
       "      <td>0</td>\n",
       "      <td>2016</td>\n",
       "    </tr>\n",
       "    <tr>\n",
       "      <th>3</th>\n",
       "      <td>3</td>\n",
       "      <td>Ford</td>\n",
       "      <td>4wd</td>\n",
       "      <td>Race Red</td>\n",
       "      <td>Black</td>\n",
       "      <td>2330</td>\n",
       "      <td>F-150</td>\n",
       "      <td>32</td>\n",
       "      <td>53900</td>\n",
       "      <td>244</td>\n",
       "      <td>5.0</td>\n",
       "      <td>Ford F-150 Raptor</td>\n",
       "      <td>1-speed</td>\n",
       "      <td>Gilbert &amp; Baugh Ford</td>\n",
       "      <td>1</td>\n",
       "      <td>2018</td>\n",
       "    </tr>\n",
       "    <tr>\n",
       "      <th>4</th>\n",
       "      <td>4</td>\n",
       "      <td>McLaren</td>\n",
       "      <td>rwd</td>\n",
       "      <td>Carbon Black</td>\n",
       "      <td>Black</td>\n",
       "      <td>12289</td>\n",
       "      <td>MP4-12C</td>\n",
       "      <td>32</td>\n",
       "      <td>116496</td>\n",
       "      <td>91</td>\n",
       "      <td>4.5</td>\n",
       "      <td>McLaren MP4-12C Coupe</td>\n",
       "      <td>7-speed</td>\n",
       "      <td>Metrolina Auto Group</td>\n",
       "      <td>1</td>\n",
       "      <td>2012</td>\n",
       "    </tr>\n",
       "    <tr>\n",
       "      <th>5</th>\n",
       "      <td>5</td>\n",
       "      <td>Mercedes-Benz</td>\n",
       "      <td>rwd</td>\n",
       "      <td>Iridium Silver Metallic</td>\n",
       "      <td>Black</td>\n",
       "      <td>58204</td>\n",
       "      <td>E</td>\n",
       "      <td>32</td>\n",
       "      <td>18549</td>\n",
       "      <td>26</td>\n",
       "      <td>5.0</td>\n",
       "      <td>Mercedes-Benz E 550</td>\n",
       "      <td>7-speed</td>\n",
       "      <td>iNetwork Auto Group</td>\n",
       "      <td>1</td>\n",
       "      <td>2010</td>\n",
       "    </tr>\n",
       "    <tr>\n",
       "      <th>6</th>\n",
       "      <td>6</td>\n",
       "      <td>Audi</td>\n",
       "      <td>4wd</td>\n",
       "      <td>Gray</td>\n",
       "      <td>Black</td>\n",
       "      <td>38145</td>\n",
       "      <td>R8</td>\n",
       "      <td>32</td>\n",
       "      <td>59950</td>\n",
       "      <td>20</td>\n",
       "      <td>4.5</td>\n",
       "      <td>Audi R8</td>\n",
       "      <td>6-speed</td>\n",
       "      <td>Exotic Motor Cars</td>\n",
       "      <td>1</td>\n",
       "      <td>2008</td>\n",
       "    </tr>\n",
       "    <tr>\n",
       "      <th>7</th>\n",
       "      <td>7</td>\n",
       "      <td>Porsche</td>\n",
       "      <td>4wd</td>\n",
       "      <td>Seal Grey Metallic</td>\n",
       "      <td>Graphite Gray</td>\n",
       "      <td>35022</td>\n",
       "      <td>911</td>\n",
       "      <td>25</td>\n",
       "      <td>18500</td>\n",
       "      <td>1268</td>\n",
       "      <td>5.0</td>\n",
       "      <td>Porsche 911 Carrera</td>\n",
       "      <td>5-speed</td>\n",
       "      <td>Hanna Imports</td>\n",
       "      <td>1</td>\n",
       "      <td>2002</td>\n",
       "    </tr>\n",
       "    <tr>\n",
       "      <th>8</th>\n",
       "      <td>8</td>\n",
       "      <td>Subaru</td>\n",
       "      <td>4wd</td>\n",
       "      <td>Regal Blue Pearl</td>\n",
       "      <td>Dark Gray</td>\n",
       "      <td>132487</td>\n",
       "      <td>Impreza</td>\n",
       "      <td>31</td>\n",
       "      <td>500</td>\n",
       "      <td>210</td>\n",
       "      <td>4.5</td>\n",
       "      <td>Subaru Impreza 2.5i</td>\n",
       "      <td>4-speed</td>\n",
       "      <td>Midwest Auto Store</td>\n",
       "      <td>1</td>\n",
       "      <td>2006</td>\n",
       "    </tr>\n",
       "    <tr>\n",
       "      <th>9</th>\n",
       "      <td>9</td>\n",
       "      <td>Chevrolet</td>\n",
       "      <td>rwd</td>\n",
       "      <td>Beach</td>\n",
       "      <td>Brownstone</td>\n",
       "      <td>11124</td>\n",
       "      <td>Corvette</td>\n",
       "      <td>28</td>\n",
       "      <td>67900</td>\n",
       "      <td>86</td>\n",
       "      <td>5.0</td>\n",
       "      <td>Chevrolet Corvette Z06</td>\n",
       "      <td>8-speed</td>\n",
       "      <td>Skyline Imports</td>\n",
       "      <td>1</td>\n",
       "      <td>2016</td>\n",
       "    </tr>\n",
       "    <tr>\n",
       "      <th>10</th>\n",
       "      <td>10</td>\n",
       "      <td>Lamborghini</td>\n",
       "      <td>4wd</td>\n",
       "      <td>Nero Pegaso Metallic</td>\n",
       "      <td>Nero Ade with Giallo Taurus</td>\n",
       "      <td>80</td>\n",
       "      <td>S</td>\n",
       "      <td>32</td>\n",
       "      <td>449995</td>\n",
       "      <td>29</td>\n",
       "      <td>5.0</td>\n",
       "      <td>Lamborghini S</td>\n",
       "      <td>7-speed</td>\n",
       "      <td>Naples Motorsports</td>\n",
       "      <td>0</td>\n",
       "      <td>2018</td>\n",
       "    </tr>\n",
       "    <tr>\n",
       "      <th>11</th>\n",
       "      <td>11</td>\n",
       "      <td>Mercedes-Benz</td>\n",
       "      <td>4wd</td>\n",
       "      <td>Obsidian Black Metallic</td>\n",
       "      <td>Designo Black</td>\n",
       "      <td>2623</td>\n",
       "      <td>AMG</td>\n",
       "      <td>32</td>\n",
       "      <td>149800</td>\n",
       "      <td>75</td>\n",
       "      <td>5.0</td>\n",
       "      <td>Mercedes-Benz AMG S 63 Base 4MATIC</td>\n",
       "      <td>7-speed</td>\n",
       "      <td>HGreg Lux</td>\n",
       "      <td>1</td>\n",
       "      <td>2017</td>\n",
       "    </tr>\n",
       "    <tr>\n",
       "      <th>12</th>\n",
       "      <td>12</td>\n",
       "      <td>Mercedes-Benz</td>\n",
       "      <td>4wd</td>\n",
       "      <td>Black</td>\n",
       "      <td>Deep Sea Blue / Silk Beige</td>\n",
       "      <td>35386</td>\n",
       "      <td>S</td>\n",
       "      <td>32</td>\n",
       "      <td>42990</td>\n",
       "      <td>23</td>\n",
       "      <td>5.0</td>\n",
       "      <td>Mercedes-Benz S 550 4MATIC</td>\n",
       "      <td>7-speed</td>\n",
       "      <td>Jumbo Luxury Cars</td>\n",
       "      <td>1</td>\n",
       "      <td>2014</td>\n",
       "    </tr>\n",
       "    <tr>\n",
       "      <th>13</th>\n",
       "      <td>13</td>\n",
       "      <td>Porsche</td>\n",
       "      <td>rwd</td>\n",
       "      <td>Basalt Black Metallic</td>\n",
       "      <td>Brown Leather</td>\n",
       "      <td>49943</td>\n",
       "      <td>911</td>\n",
       "      <td>32</td>\n",
       "      <td>29995</td>\n",
       "      <td>54</td>\n",
       "      <td>5.0</td>\n",
       "      <td>Porsche 911 Targa</td>\n",
       "      <td>6-speed</td>\n",
       "      <td>Chantilly Auto Sales</td>\n",
       "      <td>1</td>\n",
       "      <td>2004</td>\n",
       "    </tr>\n",
       "    <tr>\n",
       "      <th>14</th>\n",
       "      <td>14</td>\n",
       "      <td>Audi</td>\n",
       "      <td>4wd</td>\n",
       "      <td>Metallic</td>\n",
       "      <td>Black</td>\n",
       "      <td>16864</td>\n",
       "      <td>R8</td>\n",
       "      <td>23</td>\n",
       "      <td>88999</td>\n",
       "      <td>96</td>\n",
       "      <td>5.0</td>\n",
       "      <td>Audi R8 4.2</td>\n",
       "      <td>7-speed</td>\n",
       "      <td>Action Pre-owned Automotive</td>\n",
       "      <td>1</td>\n",
       "      <td>2014</td>\n",
       "    </tr>\n",
       "    <tr>\n",
       "      <th>15</th>\n",
       "      <td>15</td>\n",
       "      <td>Ferrari</td>\n",
       "      <td>rwd</td>\n",
       "      <td>Red</td>\n",
       "      <td>Black</td>\n",
       "      <td>35447</td>\n",
       "      <td>458</td>\n",
       "      <td>32</td>\n",
       "      <td>144000</td>\n",
       "      <td>184</td>\n",
       "      <td>5.0</td>\n",
       "      <td>Ferrari 458 Italia Base</td>\n",
       "      <td>7-speed</td>\n",
       "      <td>FC Auto</td>\n",
       "      <td>1</td>\n",
       "      <td>2011</td>\n",
       "    </tr>\n",
       "    <tr>\n",
       "      <th>16</th>\n",
       "      <td>16</td>\n",
       "      <td>Toyota</td>\n",
       "      <td>4wd</td>\n",
       "      <td>Red</td>\n",
       "      <td>Black</td>\n",
       "      <td>32940</td>\n",
       "      <td>Supra</td>\n",
       "      <td>24</td>\n",
       "      <td>72966</td>\n",
       "      <td>125</td>\n",
       "      <td>4.5</td>\n",
       "      <td>Toyota Supra Turbo</td>\n",
       "      <td>6-speed</td>\n",
       "      <td>Merlex Auto Group</td>\n",
       "      <td>1</td>\n",
       "      <td>1994</td>\n",
       "    </tr>\n",
       "    <tr>\n",
       "      <th>17</th>\n",
       "      <td>17</td>\n",
       "      <td>Lexus</td>\n",
       "      <td>4wd</td>\n",
       "      <td>Black</td>\n",
       "      <td>Black</td>\n",
       "      <td>101791</td>\n",
       "      <td>LX</td>\n",
       "      <td>32</td>\n",
       "      <td>34995</td>\n",
       "      <td>31</td>\n",
       "      <td>5.0</td>\n",
       "      <td>Lexus LX 570 Base</td>\n",
       "      <td>6-speed</td>\n",
       "      <td>Virginia Auto Trader Co.</td>\n",
       "      <td>1</td>\n",
       "      <td>2013</td>\n",
       "    </tr>\n",
       "    <tr>\n",
       "      <th>18</th>\n",
       "      <td>18</td>\n",
       "      <td>Tesla</td>\n",
       "      <td>rwd</td>\n",
       "      <td>Red</td>\n",
       "      <td>Tan</td>\n",
       "      <td>49876</td>\n",
       "      <td>Model</td>\n",
       "      <td>30</td>\n",
       "      <td>39981</td>\n",
       "      <td>147</td>\n",
       "      <td>4.5</td>\n",
       "      <td>Tesla Model S Base</td>\n",
       "      <td>1-speed</td>\n",
       "      <td>MemberCar</td>\n",
       "      <td>0</td>\n",
       "      <td>2013</td>\n",
       "    </tr>\n",
       "    <tr>\n",
       "      <th>19</th>\n",
       "      <td>19</td>\n",
       "      <td>Jeep</td>\n",
       "      <td>4wd</td>\n",
       "      <td>Black</td>\n",
       "      <td>Black</td>\n",
       "      <td>29600</td>\n",
       "      <td>Grand</td>\n",
       "      <td>32</td>\n",
       "      <td>29995</td>\n",
       "      <td>140</td>\n",
       "      <td>4.5</td>\n",
       "      <td>Jeep Grand Cherokee SRT8</td>\n",
       "      <td>5-speed</td>\n",
       "      <td>Trust Auto</td>\n",
       "      <td>1</td>\n",
       "      <td>2013</td>\n",
       "    </tr>\n",
       "  </tbody>\n",
       "</table>\n",
       "</div>"
      ],
      "text/plain": [
       "    index          brand drivetrain           exterior_color  \\\n",
       "0       0            BMW        rwd  Black Sapphire Metallic   \n",
       "1       1        Bentley        4wd                   Beluga   \n",
       "2       2  Mercedes-Benz        4wd      Steel Gray Metallic   \n",
       "3       3           Ford        4wd                 Race Red   \n",
       "4       4        McLaren        rwd             Carbon Black   \n",
       "5       5  Mercedes-Benz        rwd  Iridium Silver Metallic   \n",
       "6       6           Audi        4wd                     Gray   \n",
       "7       7        Porsche        4wd       Seal Grey Metallic   \n",
       "8       8         Subaru        4wd         Regal Blue Pearl   \n",
       "9       9      Chevrolet        rwd                    Beach   \n",
       "10     10    Lamborghini        4wd     Nero Pegaso Metallic   \n",
       "11     11  Mercedes-Benz        4wd  Obsidian Black Metallic   \n",
       "12     12  Mercedes-Benz        4wd                    Black   \n",
       "13     13        Porsche        rwd    Basalt Black Metallic   \n",
       "14     14           Audi        4wd                 Metallic   \n",
       "15     15        Ferrari        rwd                      Red   \n",
       "16     16         Toyota        4wd                      Red   \n",
       "17     17          Lexus        4wd                    Black   \n",
       "18     18          Tesla        rwd                      Red   \n",
       "19     19           Jeep        4wd                    Black   \n",
       "\n",
       "                 interior_color   miles     model  photos   price  review_no  \\\n",
       "0                   Amaro Brown   78534       535      32   24449         81   \n",
       "1                        Beluga    2319  Bentayga      32  179801        620   \n",
       "2                         Black    7478       AMG      32   87999          0   \n",
       "3                         Black    2330     F-150      32   53900        244   \n",
       "4                         Black   12289   MP4-12C      32  116496         91   \n",
       "5                         Black   58204         E      32   18549         26   \n",
       "6                         Black   38145        R8      32   59950         20   \n",
       "7                 Graphite Gray   35022       911      25   18500       1268   \n",
       "8                     Dark Gray  132487   Impreza      31     500        210   \n",
       "9                    Brownstone   11124  Corvette      28   67900         86   \n",
       "10  Nero Ade with Giallo Taurus      80         S      32  449995         29   \n",
       "11                Designo Black    2623       AMG      32  149800         75   \n",
       "12   Deep Sea Blue / Silk Beige   35386         S      32   42990         23   \n",
       "13                Brown Leather   49943       911      32   29995         54   \n",
       "14                        Black   16864        R8      23   88999         96   \n",
       "15                        Black   35447       458      32  144000        184   \n",
       "16                        Black   32940     Supra      24   72966        125   \n",
       "17                        Black  101791        LX      32   34995         31   \n",
       "18                          Tan   49876     Model      30   39981        147   \n",
       "19                        Black   29600     Grand      32   29995        140   \n",
       "\n",
       "    star                               title transmission  \\\n",
       "0    5.0                           BMW 535 i      8-speed   \n",
       "1    5.0      Bentley Bentayga W12 Signature      8-speed   \n",
       "2    0.0              Mercedes-Benz AMG GT S      7-speed   \n",
       "3    5.0                   Ford F-150 Raptor      1-speed   \n",
       "4    4.5               McLaren MP4-12C Coupe      7-speed   \n",
       "5    5.0                 Mercedes-Benz E 550      7-speed   \n",
       "6    4.5                             Audi R8      6-speed   \n",
       "7    5.0                 Porsche 911 Carrera      5-speed   \n",
       "8    4.5                 Subaru Impreza 2.5i      4-speed   \n",
       "9    5.0              Chevrolet Corvette Z06      8-speed   \n",
       "10   5.0                       Lamborghini S      7-speed   \n",
       "11   5.0  Mercedes-Benz AMG S 63 Base 4MATIC      7-speed   \n",
       "12   5.0          Mercedes-Benz S 550 4MATIC      7-speed   \n",
       "13   5.0                   Porsche 911 Targa      6-speed   \n",
       "14   5.0                         Audi R8 4.2      7-speed   \n",
       "15   5.0             Ferrari 458 Italia Base      7-speed   \n",
       "16   4.5                  Toyota Supra Turbo      6-speed   \n",
       "17   5.0                   Lexus LX 570 Base      6-speed   \n",
       "18   4.5                  Tesla Model S Base      1-speed   \n",
       "19   4.5            Jeep Grand Cherokee SRT8      5-speed   \n",
       "\n",
       "                              vendor  video  year  \n",
       "0   Amazing Luxury Cars - Snellville      0  2015  \n",
       "1                 Select Luxury Cars      0  2018  \n",
       "2                      Drive A Dream      0  2016  \n",
       "3               Gilbert & Baugh Ford      1  2018  \n",
       "4               Metrolina Auto Group      1  2012  \n",
       "5                iNetwork Auto Group      1  2010  \n",
       "6                  Exotic Motor Cars      1  2008  \n",
       "7                      Hanna Imports      1  2002  \n",
       "8                 Midwest Auto Store      1  2006  \n",
       "9                    Skyline Imports      1  2016  \n",
       "10                Naples Motorsports      0  2018  \n",
       "11                         HGreg Lux      1  2017  \n",
       "12                 Jumbo Luxury Cars      1  2014  \n",
       "13              Chantilly Auto Sales      1  2004  \n",
       "14       Action Pre-owned Automotive      1  2014  \n",
       "15                           FC Auto      1  2011  \n",
       "16                 Merlex Auto Group      1  1994  \n",
       "17          Virginia Auto Trader Co.      1  2013  \n",
       "18                         MemberCar      0  2013  \n",
       "19                        Trust Auto      1  2013  "
      ]
     },
     "execution_count": 25,
     "metadata": {},
     "output_type": "execute_result"
    }
   ],
   "source": [
    "# read local car_info popular \n",
    "# pw = pickle.load(open('./Data/pw.p','rb'))\n",
    "\n",
    "# http://mysql-python.sourceforge.net/MySQLdb.html\n",
    "\n",
    "db = MySQLdb.connect(\n",
    "    host=\"mysql\",\n",
    "    user=\"root\",\n",
    "    passwd='0',\n",
    "    db='used_car',\n",
    "    charset='utf8',\n",
    ")\n",
    "\n",
    "SQL_QUERY = \"\"\"\n",
    "    SELECT *\n",
    "    FROM used_car;\n",
    "\"\"\"\n",
    "\n",
    "train = pd.read_sql(SQL_QUERY, db)\n",
    "train.head(20)"
   ]
  },
  {
   "cell_type": "code",
   "execution_count": 26,
   "metadata": {},
   "outputs": [],
   "source": [
    "brand_list = []\n",
    "# 모든 회사 중 가장 공통된(이름이 들쪽날쭉하지 않고 균일한 것)중 30개를 고른다.\n",
    "# https://docs.python.org/2/library/collections.html#collections.Counter.most_common\n",
    "for brand in Counter(train.brand).most_common(30):\n",
    "    brand_list.append(brand[0])"
   ]
  },
  {
   "cell_type": "code",
   "execution_count": 27,
   "metadata": {
    "ExecuteTime": {
     "end_time": "2018-04-10T01:08:54.418979Z",
     "start_time": "2018-04-10T01:08:54.410046Z"
    }
   },
   "outputs": [],
   "source": [
    "# most_common 30 이 아닌 것들의 인덱스를 구한다.\n",
    "idx_list = []\n",
    "idx = 0\n",
    "for i in train[\"brand\"]:\n",
    "    if i not in brand_list:\n",
    "        idx_list.append(idx)\n",
    "    idx += 1"
   ]
  },
  {
   "cell_type": "code",
   "execution_count": 28,
   "metadata": {
    "ExecuteTime": {
     "end_time": "2018-04-10T01:08:55.430908Z",
     "start_time": "2018-04-10T01:08:55.426670Z"
    }
   },
   "outputs": [
    {
     "data": {
      "text/plain": [
       "(200, 16)"
      ]
     },
     "execution_count": 28,
     "metadata": {},
     "output_type": "execute_result"
    }
   ],
   "source": [
    "# 행, 열 개수 반환\n",
    "train.shape"
   ]
  },
  {
   "cell_type": "code",
   "execution_count": 29,
   "metadata": {
    "ExecuteTime": {
     "end_time": "2018-04-10T01:09:24.910426Z",
     "start_time": "2018-04-10T01:09:24.868018Z"
    }
   },
   "outputs": [],
   "source": [
    "# 인덱스를 이용해서 most_common 30 만 남기고 train 데이터 프레임워크를 지운다.\n",
    "train = train.drop(idx_list)\n",
    "# 남아있는 데이터 프레임워크의 인덱스 컬럼을 생성한다.\n",
    "train.reset_index(drop=True, inplace=True)\n",
    "train = train.drop(\"index\", axis=1)"
   ]
  },
  {
   "cell_type": "markdown",
   "metadata": {},
   "source": [
    "Feature engineering"
   ]
  },
  {
   "cell_type": "code",
   "execution_count": 30,
   "metadata": {
    "ExecuteTime": {
     "end_time": "2018-04-10T01:12:05.251375Z",
     "start_time": "2018-04-10T01:12:05.248770Z"
    }
   },
   "outputs": [],
   "source": [
    "# 분류 특징(열)을 회사명과 서브이름으로\n",
    "categorical_features = ['brand', 'model']"
   ]
  },
  {
   "cell_type": "code",
   "execution_count": 31,
   "metadata": {
    "ExecuteTime": {
     "end_time": "2018-04-10T01:12:21.819720Z",
     "start_time": "2018-04-10T01:12:21.766236Z"
    }
   },
   "outputs": [
    {
     "data": {
      "text/html": [
       "<div>\n",
       "<style scoped>\n",
       "    .dataframe tbody tr th:only-of-type {\n",
       "        vertical-align: middle;\n",
       "    }\n",
       "\n",
       "    .dataframe tbody tr th {\n",
       "        vertical-align: top;\n",
       "    }\n",
       "\n",
       "    .dataframe thead th {\n",
       "        text-align: right;\n",
       "    }\n",
       "</style>\n",
       "<table border=\"1\" class=\"dataframe\">\n",
       "  <thead>\n",
       "    <tr style=\"text-align: right;\">\n",
       "      <th></th>\n",
       "      <th>brand_Acura</th>\n",
       "      <th>brand_Alfa</th>\n",
       "      <th>brand_Audi</th>\n",
       "      <th>brand_BMW</th>\n",
       "      <th>brand_Bentley</th>\n",
       "      <th>brand_Cadillac</th>\n",
       "      <th>brand_Chevrolet</th>\n",
       "      <th>brand_Chrysler</th>\n",
       "      <th>brand_Dodge</th>\n",
       "      <th>brand_Ferrari</th>\n",
       "      <th>...</th>\n",
       "      <th>model_Tucson</th>\n",
       "      <th>model_Tundra</th>\n",
       "      <th>model_Viper</th>\n",
       "      <th>model_Volt</th>\n",
       "      <th>model_WRX</th>\n",
       "      <th>model_Wrangler</th>\n",
       "      <th>model_X-Type</th>\n",
       "      <th>model_X5</th>\n",
       "      <th>model_XJ</th>\n",
       "      <th>model_i8</th>\n",
       "    </tr>\n",
       "  </thead>\n",
       "  <tbody>\n",
       "    <tr>\n",
       "      <th>0</th>\n",
       "      <td>0</td>\n",
       "      <td>0</td>\n",
       "      <td>0</td>\n",
       "      <td>1</td>\n",
       "      <td>0</td>\n",
       "      <td>0</td>\n",
       "      <td>0</td>\n",
       "      <td>0</td>\n",
       "      <td>0</td>\n",
       "      <td>0</td>\n",
       "      <td>...</td>\n",
       "      <td>0</td>\n",
       "      <td>0</td>\n",
       "      <td>0</td>\n",
       "      <td>0</td>\n",
       "      <td>0</td>\n",
       "      <td>0</td>\n",
       "      <td>0</td>\n",
       "      <td>0</td>\n",
       "      <td>0</td>\n",
       "      <td>0</td>\n",
       "    </tr>\n",
       "    <tr>\n",
       "      <th>1</th>\n",
       "      <td>0</td>\n",
       "      <td>0</td>\n",
       "      <td>0</td>\n",
       "      <td>0</td>\n",
       "      <td>1</td>\n",
       "      <td>0</td>\n",
       "      <td>0</td>\n",
       "      <td>0</td>\n",
       "      <td>0</td>\n",
       "      <td>0</td>\n",
       "      <td>...</td>\n",
       "      <td>0</td>\n",
       "      <td>0</td>\n",
       "      <td>0</td>\n",
       "      <td>0</td>\n",
       "      <td>0</td>\n",
       "      <td>0</td>\n",
       "      <td>0</td>\n",
       "      <td>0</td>\n",
       "      <td>0</td>\n",
       "      <td>0</td>\n",
       "    </tr>\n",
       "    <tr>\n",
       "      <th>2</th>\n",
       "      <td>0</td>\n",
       "      <td>0</td>\n",
       "      <td>0</td>\n",
       "      <td>0</td>\n",
       "      <td>0</td>\n",
       "      <td>0</td>\n",
       "      <td>0</td>\n",
       "      <td>0</td>\n",
       "      <td>0</td>\n",
       "      <td>0</td>\n",
       "      <td>...</td>\n",
       "      <td>0</td>\n",
       "      <td>0</td>\n",
       "      <td>0</td>\n",
       "      <td>0</td>\n",
       "      <td>0</td>\n",
       "      <td>0</td>\n",
       "      <td>0</td>\n",
       "      <td>0</td>\n",
       "      <td>0</td>\n",
       "      <td>0</td>\n",
       "    </tr>\n",
       "    <tr>\n",
       "      <th>3</th>\n",
       "      <td>0</td>\n",
       "      <td>0</td>\n",
       "      <td>0</td>\n",
       "      <td>0</td>\n",
       "      <td>0</td>\n",
       "      <td>0</td>\n",
       "      <td>0</td>\n",
       "      <td>0</td>\n",
       "      <td>0</td>\n",
       "      <td>0</td>\n",
       "      <td>...</td>\n",
       "      <td>0</td>\n",
       "      <td>0</td>\n",
       "      <td>0</td>\n",
       "      <td>0</td>\n",
       "      <td>0</td>\n",
       "      <td>0</td>\n",
       "      <td>0</td>\n",
       "      <td>0</td>\n",
       "      <td>0</td>\n",
       "      <td>0</td>\n",
       "    </tr>\n",
       "    <tr>\n",
       "      <th>4</th>\n",
       "      <td>0</td>\n",
       "      <td>0</td>\n",
       "      <td>0</td>\n",
       "      <td>0</td>\n",
       "      <td>0</td>\n",
       "      <td>0</td>\n",
       "      <td>0</td>\n",
       "      <td>0</td>\n",
       "      <td>0</td>\n",
       "      <td>0</td>\n",
       "      <td>...</td>\n",
       "      <td>0</td>\n",
       "      <td>0</td>\n",
       "      <td>0</td>\n",
       "      <td>0</td>\n",
       "      <td>0</td>\n",
       "      <td>0</td>\n",
       "      <td>0</td>\n",
       "      <td>0</td>\n",
       "      <td>0</td>\n",
       "      <td>0</td>\n",
       "    </tr>\n",
       "  </tbody>\n",
       "</table>\n",
       "<p>5 rows × 145 columns</p>\n",
       "</div>"
      ],
      "text/plain": [
       "   brand_Acura  brand_Alfa  brand_Audi  brand_BMW  brand_Bentley  \\\n",
       "0            0           0           0          1              0   \n",
       "1            0           0           0          0              1   \n",
       "2            0           0           0          0              0   \n",
       "3            0           0           0          0              0   \n",
       "4            0           0           0          0              0   \n",
       "\n",
       "   brand_Cadillac  brand_Chevrolet  brand_Chrysler  brand_Dodge  \\\n",
       "0               0                0               0            0   \n",
       "1               0                0               0            0   \n",
       "2               0                0               0            0   \n",
       "3               0                0               0            0   \n",
       "4               0                0               0            0   \n",
       "\n",
       "   brand_Ferrari    ...     model_Tucson  model_Tundra  model_Viper  \\\n",
       "0              0    ...                0             0            0   \n",
       "1              0    ...                0             0            0   \n",
       "2              0    ...                0             0            0   \n",
       "3              0    ...                0             0            0   \n",
       "4              0    ...                0             0            0   \n",
       "\n",
       "   model_Volt  model_WRX  model_Wrangler  model_X-Type  model_X5  model_XJ  \\\n",
       "0           0          0               0             0         0         0   \n",
       "1           0          0               0             0         0         0   \n",
       "2           0          0               0             0         0         0   \n",
       "3           0          0               0             0         0         0   \n",
       "4           0          0               0             0         0         0   \n",
       "\n",
       "   model_i8  \n",
       "0         0  \n",
       "1         0  \n",
       "2         0  \n",
       "3         0  \n",
       "4         0  \n",
       "\n",
       "[5 rows x 145 columns]"
      ]
     },
     "execution_count": 31,
     "metadata": {},
     "output_type": "execute_result"
    }
   ],
   "source": [
    "# 더미 데이터 생성. 두 특성의 상관을 분석하기 위해..\n",
    "# 값이 없는 문자데이터이기 때문에 좌표를 부여해 준 것과 같다.\n",
    "# 더미는 행렬로 생성\n",
    "dummy_cat = pd.get_dummies(train[categorical_features])\n",
    "dummy_cat.head()"
   ]
  },
  {
   "cell_type": "code",
   "execution_count": 32,
   "metadata": {
    "ExecuteTime": {
     "end_time": "2018-04-10T01:15:06.330856Z",
     "start_time": "2018-04-10T01:15:06.328331Z"
    }
   },
   "outputs": [],
   "source": [
    "# 숫자 특성(열) 설정\n",
    "numerical_features = ['year', 'miles','price']"
   ]
  },
  {
   "cell_type": "code",
   "execution_count": 33,
   "metadata": {
    "ExecuteTime": {
     "end_time": "2018-04-10T01:15:03.405694Z",
     "start_time": "2018-04-10T01:15:03.378260Z"
    }
   },
   "outputs": [
    {
     "data": {
      "text/html": [
       "<div>\n",
       "<style scoped>\n",
       "    .dataframe tbody tr th:only-of-type {\n",
       "        vertical-align: middle;\n",
       "    }\n",
       "\n",
       "    .dataframe tbody tr th {\n",
       "        vertical-align: top;\n",
       "    }\n",
       "\n",
       "    .dataframe thead th {\n",
       "        text-align: right;\n",
       "    }\n",
       "</style>\n",
       "<table border=\"1\" class=\"dataframe\">\n",
       "  <thead>\n",
       "    <tr style=\"text-align: right;\">\n",
       "      <th></th>\n",
       "      <th>year</th>\n",
       "      <th>miles</th>\n",
       "      <th>price</th>\n",
       "    </tr>\n",
       "  </thead>\n",
       "  <tbody>\n",
       "    <tr>\n",
       "      <th>0</th>\n",
       "      <td>7.608871</td>\n",
       "      <td>11.271300</td>\n",
       "      <td>10.104385</td>\n",
       "    </tr>\n",
       "    <tr>\n",
       "      <th>1</th>\n",
       "      <td>7.610358</td>\n",
       "      <td>7.749322</td>\n",
       "      <td>12.099612</td>\n",
       "    </tr>\n",
       "    <tr>\n",
       "      <th>2</th>\n",
       "      <td>7.609367</td>\n",
       "      <td>8.919854</td>\n",
       "      <td>11.385092</td>\n",
       "    </tr>\n",
       "    <tr>\n",
       "      <th>3</th>\n",
       "      <td>7.610358</td>\n",
       "      <td>7.754053</td>\n",
       "      <td>10.894904</td>\n",
       "    </tr>\n",
       "    <tr>\n",
       "      <th>4</th>\n",
       "      <td>7.606387</td>\n",
       "      <td>10.971727</td>\n",
       "      <td>9.828225</td>\n",
       "    </tr>\n",
       "  </tbody>\n",
       "</table>\n",
       "</div>"
      ],
      "text/plain": [
       "       year      miles      price\n",
       "0  7.608871  11.271300  10.104385\n",
       "1  7.610358   7.749322  12.099612\n",
       "2  7.609367   8.919854  11.385092\n",
       "3  7.610358   7.754053  10.894904\n",
       "4  7.606387  10.971727   9.828225"
      ]
     },
     "execution_count": 33,
     "metadata": {},
     "output_type": "execute_result"
    }
   ],
   "source": [
    "# 숫자 특성(열)의 값들을 로그함수로 노멀라이즈 해준다. 숫자 크기 뿐 아니라 편차도 줄어든다.\n",
    "normalize_num = np.log1p(train[numerical_features])\n",
    "normalize_num.head()"
   ]
  },
  {
   "cell_type": "code",
   "execution_count": 34,
   "metadata": {
    "ExecuteTime": {
     "end_time": "2018-04-10T01:16:12.404634Z",
     "start_time": "2018-04-10T01:16:12.356801Z"
    }
   },
   "outputs": [],
   "source": [
    "# pre_train = pd.merge(normalize_num, dummy_cat) \n",
    "# 특성들을 합쳐준다.\n",
    "X_train_0 = normalize_num.join(dummy_cat)\n",
    "# 값 특징열을 y_traing 이라는 데이터 페이스로 설정하고\n",
    "y_train = X_train_0[\"price\"]\n",
    "# 이 특징열을 뺀 나머지 정보를 X_train 에 넣는다.\n",
    "X_train = X_train_0.drop(\"price\", axis=1)"
   ]
  },
  {
   "cell_type": "code",
   "execution_count": 35,
   "metadata": {
    "ExecuteTime": {
     "end_time": "2018-04-10T01:21:19.829399Z",
     "start_time": "2018-04-10T01:21:19.405787Z"
    }
   },
   "outputs": [],
   "source": [
    "\n",
    "# xgboost 는 분류기를 세트로 묶어서 정확도를 축정하는 예측 기법\n",
    "# https://github.com/dmlc/xgboost/tree/master/python-package\n",
    "from xgboost import XGBRegressor\n",
    "# http://scikit-learn.org/stable/install.html\n",
    "# 교차검정, 모델선택, KFOLD - 다모름\n",
    "from sklearn.cross_validation import train_test_split\n",
    "from sklearn.model_selection import cross_val_score\n",
    "from sklearn.model_selection import KFold\n",
    "\n",
    "k_fold = KFold(n_splits=10, shuffle=True, random_state=2018)\n",
    "X_train1, X_test1, y_train1, y_test1 = train_test_split(X_train, y_train)"
   ]
  },
  {
   "cell_type": "code",
   "execution_count": 36,
   "metadata": {
    "ExecuteTime": {
     "end_time": "2018-04-10T01:21:24.077921Z",
     "start_time": "2018-04-10T01:21:24.070043Z"
    }
   },
   "outputs": [],
   "source": [
    "ml = XGBRegressor(n_estimators=1000, learning_rate=0.05, verbose=False)"
   ]
  },
  {
   "cell_type": "code",
   "execution_count": 37,
   "metadata": {
    "ExecuteTime": {
     "end_time": "2018-04-10T01:25:19.483178Z",
     "start_time": "2018-04-10T01:21:26.692926Z"
    }
   },
   "outputs": [
    {
     "name": "stdout",
     "output_type": "stream",
     "text": [
      "CPU times: user 60 ms, sys: 30 ms, total: 90 ms\n",
      "Wall time: 1.99 s\n",
      "Score = 0.65971\n"
     ]
    }
   ],
   "source": [
    "%time score = cross_val_score(ml, X_train, y_train, cv=k_fold, n_jobs=-1, scoring=\"r2\").mean()\n",
    "\n",
    "print(\"Score = {0:.5f}\".format(score))"
   ]
  },
  {
   "cell_type": "code",
   "execution_count": 42,
   "metadata": {
    "scrolled": true
   },
   "outputs": [
    {
     "data": {
      "image/png": "[encoded data removed]",
      "text/plain": [
       "<matplotlib.figure.Figure at 0x7f0598dbd5f8>"
      ]
     },
     "metadata": {},
     "output_type": "display_data"
    }
   ],
   "source": [
    "ml = ml.fit(X_train1, y_train1)\n",
    "y_pred = ml.predict(X_test1)\n",
    "\n",
    "plt.figure(figsize=(10, 5))\n",
    "plt.scatter(y_test1, y_pred, s=20)\n",
    "plt.title('Predicted vs. Actual')\n",
    "plt.xlabel('Actual Sale Price')\n",
    "plt.ylabel('Predicted Sale Price')\n",
    "\n",
    "plt.plot([min(y_test1), max(y_test1)], [min(y_test1), max(y_test1)])\n",
    "plt.tight_layout()"
   ]
  },
  {
   "cell_type": "code",
   "execution_count": 43,
   "metadata": {},
   "outputs": [],
   "source": [
    "pickle.dump(ml, open(\"./Flask/models/model.plk\",\"wb\"))"
   ]
  },
  {
   "cell_type": "code",
   "execution_count": 44,
   "metadata": {},
   "outputs": [],
   "source": [
    "actual_car_info = train[[\"brand\", \"model\",\"year\",\"miles\",\"price\"]]\n",
    "pickle.dump(actual_car_info, open(\"./Flask/models/actual_car_info.plk\",\"wb\"))"
   ]
  },
  {
   "cell_type": "code",
   "execution_count": 46,
   "metadata": {
    "ExecuteTime": {
     "end_time": "2018-04-10T03:09:36.485874Z",
     "start_time": "2018-04-10T03:09:33.427308Z"
    }
   },
   "outputs": [
    {
     "name": "stdout",
     "output_type": "stream",
     "text": [
      "brand: honda\n",
      "model: civic\n",
      "year: 2002\n",
      "miles: 35000\n"
     ]
    }
   ],
   "source": [
    "brand = str(input(\"brand: \"))\n",
    "model = str(input(\"model: \"))\n",
    "year = int(input(\"year: \"))\n",
    "miles = int(input(\"miles: \"))"
   ]
  },
  {
   "cell_type": "code",
   "execution_count": 47,
   "metadata": {
    "ExecuteTime": {
     "end_time": "2018-04-10T03:11:53.262285Z",
     "start_time": "2018-04-10T03:11:53.228907Z"
    }
   },
   "outputs": [],
   "source": [
    "target = pd.DataFrame(columns = [X_train1.columns])"
   ]
  },
  {
   "cell_type": "code",
   "execution_count": 48,
   "metadata": {},
   "outputs": [],
   "source": [
    "pickle.dump(X_train1.columns, open(\"./Flask/models/column.plk\",\"wb\"))"
   ]
  },
  {
   "cell_type": "code",
   "execution_count": 49,
   "metadata": {
    "ExecuteTime": {
     "end_time": "2018-04-10T03:11:56.202755Z",
     "start_time": "2018-04-10T03:11:56.189608Z"
    }
   },
   "outputs": [
    {
     "data": {
      "text/plain": [
       "147"
      ]
     },
     "execution_count": 49,
     "metadata": {},
     "output_type": "execute_result"
    }
   ],
   "source": [
    "cdx = 0\n",
    "for col in X_train.columns:\n",
    "    if col == 'brand'+\"_\"+brand:\n",
    "        break;\n",
    "    cdx += 1\n",
    "cdx"
   ]
  },
  {
   "cell_type": "code",
   "execution_count": 50,
   "metadata": {
    "ExecuteTime": {
     "end_time": "2018-04-10T03:12:00.778474Z",
     "start_time": "2018-04-10T03:12:00.770608Z"
    }
   },
   "outputs": [
    {
     "data": {
      "text/plain": [
       "147"
      ]
     },
     "execution_count": 50,
     "metadata": {},
     "output_type": "execute_result"
    }
   ],
   "source": [
    "sdx = 0\n",
    "for col in X_train.columns:\n",
    "    if col == 'model'+\"_\"+model:\n",
    "        break;\n",
    "    sdx += 1\n",
    "sdx"
   ]
  },
  {
   "cell_type": "code",
   "execution_count": 52,
   "metadata": {},
   "outputs": [],
   "source": [
    "target_list = np.zeros_like(X_train.loc[0])"
   ]
  },
  {
   "cell_type": "code",
   "execution_count": 53,
   "metadata": {},
   "outputs": [],
   "source": [
    "pickle.dump(target_list, open(\"./Flask/models/target_list.plk\",\"wb\"))"
   ]
  },
  {
   "cell_type": "code",
   "execution_count": 54,
   "metadata": {
    "ExecuteTime": {
     "end_time": "2018-04-10T03:12:03.227026Z",
     "start_time": "2018-04-10T03:12:03.188868Z"
    }
   },
   "outputs": [
    {
     "ename": "IndexError",
     "evalue": "index 147 is out of bounds for axis 0 with size 147",
     "output_type": "error",
     "traceback": [
      "\u001b[0;31m---------------------------------------------------------------------------\u001b[0m",
      "\u001b[0;31mIndexError\u001b[0m                                Traceback (most recent call last)",
      "\u001b[0;32m<ipython-input-54-ba51f5461f06>\u001b[0m in \u001b[0;36m<module>\u001b[0;34m()\u001b[0m\n\u001b[0;32m----> 1\u001b[0;31m \u001b[0mtarget_list\u001b[0m\u001b[0;34m[\u001b[0m\u001b[0mcdx\u001b[0m\u001b[0;34m]\u001b[0m \u001b[0;34m=\u001b[0m \u001b[0;36m1\u001b[0m\u001b[0;34m\u001b[0m\u001b[0m\n\u001b[0m\u001b[1;32m      2\u001b[0m \u001b[0mtarget_list\u001b[0m\u001b[0;34m[\u001b[0m\u001b[0msdx\u001b[0m\u001b[0;34m]\u001b[0m \u001b[0;34m=\u001b[0m \u001b[0;36m1\u001b[0m\u001b[0;34m\u001b[0m\u001b[0m\n\u001b[1;32m      3\u001b[0m \u001b[0mtarget_list\u001b[0m\u001b[0;34m[\u001b[0m\u001b[0;36m0\u001b[0m\u001b[0;34m]\u001b[0m \u001b[0;34m=\u001b[0m \u001b[0myear\u001b[0m\u001b[0;34m\u001b[0m\u001b[0m\n\u001b[1;32m      4\u001b[0m \u001b[0mtarget_list\u001b[0m\u001b[0;34m[\u001b[0m\u001b[0;36m1\u001b[0m\u001b[0;34m]\u001b[0m \u001b[0;34m=\u001b[0m \u001b[0mmiles\u001b[0m\u001b[0;34m\u001b[0m\u001b[0m\n",
      "\u001b[0;31mIndexError\u001b[0m: index 147 is out of bounds for axis 0 with size 147"
     ]
    }
   ],
   "source": [
    "target_list[cdx] = 1\n",
    "target_list[sdx] = 1\n",
    "target_list[0] = year\n",
    "target_list[1] = miles"
   ]
  },
  {
   "cell_type": "code",
   "execution_count": 55,
   "metadata": {
    "ExecuteTime": {
     "end_time": "2018-04-10T03:12:23.213656Z",
     "start_time": "2018-04-10T03:12:23.196878Z"
    },
    "scrolled": true
   },
   "outputs": [],
   "source": [
    "for i in range(1):\n",
    "    target.loc[i] = target_list"
   ]
  },
  {
   "cell_type": "code",
   "execution_count": 56,
   "metadata": {
    "ExecuteTime": {
     "end_time": "2018-04-10T03:12:26.619252Z",
     "start_time": "2018-04-10T03:12:26.587446Z"
    }
   },
   "outputs": [
    {
     "data": {
      "text/html": [
       "<div>\n",
       "<style scoped>\n",
       "    .dataframe tbody tr th:only-of-type {\n",
       "        vertical-align: middle;\n",
       "    }\n",
       "\n",
       "    .dataframe tbody tr th {\n",
       "        vertical-align: top;\n",
       "    }\n",
       "\n",
       "    .dataframe thead tr th {\n",
       "        text-align: left;\n",
       "    }\n",
       "</style>\n",
       "<table border=\"1\" class=\"dataframe\">\n",
       "  <thead>\n",
       "    <tr>\n",
       "      <th></th>\n",
       "      <th>year</th>\n",
       "      <th>miles</th>\n",
       "      <th>brand_Acura</th>\n",
       "      <th>brand_Alfa</th>\n",
       "      <th>brand_Audi</th>\n",
       "      <th>brand_BMW</th>\n",
       "      <th>brand_Bentley</th>\n",
       "      <th>brand_Cadillac</th>\n",
       "      <th>brand_Chevrolet</th>\n",
       "      <th>brand_Chrysler</th>\n",
       "      <th>...</th>\n",
       "      <th>model_Tucson</th>\n",
       "      <th>model_Tundra</th>\n",
       "      <th>model_Viper</th>\n",
       "      <th>model_Volt</th>\n",
       "      <th>model_WRX</th>\n",
       "      <th>model_Wrangler</th>\n",
       "      <th>model_X-Type</th>\n",
       "      <th>model_X5</th>\n",
       "      <th>model_XJ</th>\n",
       "      <th>model_i8</th>\n",
       "    </tr>\n",
       "  </thead>\n",
       "  <tbody>\n",
       "    <tr>\n",
       "      <th>0</th>\n",
       "      <td>0.0</td>\n",
       "      <td>0.0</td>\n",
       "      <td>0.0</td>\n",
       "      <td>0.0</td>\n",
       "      <td>0.0</td>\n",
       "      <td>0.0</td>\n",
       "      <td>0.0</td>\n",
       "      <td>0.0</td>\n",
       "      <td>0.0</td>\n",
       "      <td>0.0</td>\n",
       "      <td>...</td>\n",
       "      <td>0.0</td>\n",
       "      <td>0.0</td>\n",
       "      <td>0.0</td>\n",
       "      <td>0.0</td>\n",
       "      <td>0.0</td>\n",
       "      <td>0.0</td>\n",
       "      <td>0.0</td>\n",
       "      <td>0.0</td>\n",
       "      <td>0.0</td>\n",
       "      <td>0.0</td>\n",
       "    </tr>\n",
       "  </tbody>\n",
       "</table>\n",
       "<p>1 rows × 147 columns</p>\n",
       "</div>"
      ],
      "text/plain": [
       "  year miles brand_Acura brand_Alfa brand_Audi brand_BMW brand_Bentley  \\\n",
       "0  0.0   0.0         0.0        0.0        0.0       0.0           0.0   \n",
       "\n",
       "  brand_Cadillac brand_Chevrolet brand_Chrysler   ...    model_Tucson  \\\n",
       "0            0.0             0.0            0.0   ...             0.0   \n",
       "\n",
       "  model_Tundra model_Viper model_Volt model_WRX model_Wrangler model_X-Type  \\\n",
       "0          0.0         0.0        0.0       0.0            0.0          0.0   \n",
       "\n",
       "  model_X5 model_XJ model_i8  \n",
       "0      0.0      0.0      0.0  \n",
       "\n",
       "[1 rows x 147 columns]"
      ]
     },
     "execution_count": 56,
     "metadata": {},
     "output_type": "execute_result"
    }
   ],
   "source": [
    "target"
   ]
  },
  {
   "cell_type": "code",
   "execution_count": 57,
   "metadata": {
    "ExecuteTime": {
     "end_time": "2018-04-10T03:12:29.692406Z",
     "start_time": "2018-04-10T03:12:29.683541Z"
    }
   },
   "outputs": [],
   "source": [
    "numerical_features = ['year', 'miles']\n",
    "target[numerical_features] = np.log1p(target[numerical_features])"
   ]
  },
  {
   "cell_type": "code",
   "execution_count": 58,
   "metadata": {
    "ExecuteTime": {
     "end_time": "2018-04-10T03:12:31.897984Z",
     "start_time": "2018-04-10T03:12:31.859048Z"
    }
   },
   "outputs": [
    {
     "data": {
      "text/html": [
       "<div>\n",
       "<style scoped>\n",
       "    .dataframe tbody tr th:only-of-type {\n",
       "        vertical-align: middle;\n",
       "    }\n",
       "\n",
       "    .dataframe tbody tr th {\n",
       "        vertical-align: top;\n",
       "    }\n",
       "\n",
       "    .dataframe thead tr th {\n",
       "        text-align: left;\n",
       "    }\n",
       "</style>\n",
       "<table border=\"1\" class=\"dataframe\">\n",
       "  <thead>\n",
       "    <tr>\n",
       "      <th></th>\n",
       "      <th>year</th>\n",
       "      <th>miles</th>\n",
       "      <th>brand_Acura</th>\n",
       "      <th>brand_Alfa</th>\n",
       "      <th>brand_Audi</th>\n",
       "      <th>brand_BMW</th>\n",
       "      <th>brand_Bentley</th>\n",
       "      <th>brand_Cadillac</th>\n",
       "      <th>brand_Chevrolet</th>\n",
       "      <th>brand_Chrysler</th>\n",
       "      <th>...</th>\n",
       "      <th>model_Tucson</th>\n",
       "      <th>model_Tundra</th>\n",
       "      <th>model_Viper</th>\n",
       "      <th>model_Volt</th>\n",
       "      <th>model_WRX</th>\n",
       "      <th>model_Wrangler</th>\n",
       "      <th>model_X-Type</th>\n",
       "      <th>model_X5</th>\n",
       "      <th>model_XJ</th>\n",
       "      <th>model_i8</th>\n",
       "    </tr>\n",
       "  </thead>\n",
       "  <tbody>\n",
       "    <tr>\n",
       "      <th>0</th>\n",
       "      <td>0.0</td>\n",
       "      <td>0.0</td>\n",
       "      <td>0.0</td>\n",
       "      <td>0.0</td>\n",
       "      <td>0.0</td>\n",
       "      <td>0.0</td>\n",
       "      <td>0.0</td>\n",
       "      <td>0.0</td>\n",
       "      <td>0.0</td>\n",
       "      <td>0.0</td>\n",
       "      <td>...</td>\n",
       "      <td>0.0</td>\n",
       "      <td>0.0</td>\n",
       "      <td>0.0</td>\n",
       "      <td>0.0</td>\n",
       "      <td>0.0</td>\n",
       "      <td>0.0</td>\n",
       "      <td>0.0</td>\n",
       "      <td>0.0</td>\n",
       "      <td>0.0</td>\n",
       "      <td>0.0</td>\n",
       "    </tr>\n",
       "  </tbody>\n",
       "</table>\n",
       "<p>1 rows × 147 columns</p>\n",
       "</div>"
      ],
      "text/plain": [
       "  year miles brand_Acura brand_Alfa brand_Audi brand_BMW brand_Bentley  \\\n",
       "0  0.0   0.0         0.0        0.0        0.0       0.0           0.0   \n",
       "\n",
       "  brand_Cadillac brand_Chevrolet brand_Chrysler   ...    model_Tucson  \\\n",
       "0            0.0             0.0            0.0   ...             0.0   \n",
       "\n",
       "  model_Tundra model_Viper model_Volt model_WRX model_Wrangler model_X-Type  \\\n",
       "0          0.0         0.0        0.0       0.0            0.0          0.0   \n",
       "\n",
       "  model_X5 model_XJ model_i8  \n",
       "0      0.0      0.0      0.0  \n",
       "\n",
       "[1 rows x 147 columns]"
      ]
     },
     "execution_count": 58,
     "metadata": {},
     "output_type": "execute_result"
    }
   ],
   "source": [
    "target"
   ]
  },
  {
   "cell_type": "code",
   "execution_count": 59,
   "metadata": {
    "ExecuteTime": {
     "end_time": "2018-04-10T03:12:32.885067Z",
     "start_time": "2018-04-10T03:12:32.875741Z"
    }
   },
   "outputs": [],
   "source": [
    "price_log = ml.predict(target)"
   ]
  },
  {
   "cell_type": "code",
   "execution_count": 60,
   "metadata": {
    "ExecuteTime": {
     "end_time": "2018-04-10T03:12:33.538588Z",
     "start_time": "2018-04-10T03:12:33.531294Z"
    }
   },
   "outputs": [
    {
     "data": {
      "text/plain": [
       "array([12.062366], dtype=float32)"
      ]
     },
     "execution_count": 60,
     "metadata": {},
     "output_type": "execute_result"
    }
   ],
   "source": [
    "price_log"
   ]
  },
  {
   "cell_type": "code",
   "execution_count": 61,
   "metadata": {
    "ExecuteTime": {
     "end_time": "2018-04-10T03:12:34.230463Z",
     "start_time": "2018-04-10T03:12:34.226482Z"
    }
   },
   "outputs": [
    {
     "data": {
      "text/plain": [
       "173228"
      ]
     },
     "execution_count": 61,
     "metadata": {},
     "output_type": "execute_result"
    }
   ],
   "source": [
    "price = np.exp(price_log)\n",
    "int(price)"
   ]
  },
  {
   "cell_type": "code",
   "execution_count": 62,
   "metadata": {},
   "outputs": [
    {
     "data": {
      "text/html": [
       "<div>\n",
       "<style scoped>\n",
       "    .dataframe tbody tr th:only-of-type {\n",
       "        vertical-align: middle;\n",
       "    }\n",
       "\n",
       "    .dataframe tbody tr th {\n",
       "        vertical-align: top;\n",
       "    }\n",
       "\n",
       "    .dataframe thead th {\n",
       "        text-align: right;\n",
       "    }\n",
       "</style>\n",
       "<table border=\"1\" class=\"dataframe\">\n",
       "  <thead>\n",
       "    <tr style=\"text-align: right;\">\n",
       "      <th></th>\n",
       "      <th>year</th>\n",
       "      <th>price</th>\n",
       "    </tr>\n",
       "  </thead>\n",
       "  <tbody>\n",
       "  </tbody>\n",
       "</table>\n",
       "</div>"
      ],
      "text/plain": [
       "Empty DataFrame\n",
       "Columns: [year, price]\n",
       "Index: []"
      ]
     },
     "execution_count": 62,
     "metadata": {},
     "output_type": "execute_result"
    }
   ],
   "source": [
    "same_model = actual_car_info[actual_car_info[\"model\"]==model] \n",
    "year_price = same_model[[\"year\", \"price\"]]\n",
    "year_price_list = year_price.groupby(\"year\").agg({'price':np.mean}).astype('int')\n",
    "year_price_list = year_price_list.reset_index()\n",
    "year_price_list"
   ]
  },
  {
   "cell_type": "code",
   "execution_count": 63,
   "metadata": {},
   "outputs": [],
   "source": [
    "year_price_list[\"year\"] = year_price_list[\"year\"].apply(lambda x: str(x) )"
   ]
  },
  {
   "cell_type": "code",
   "execution_count": 64,
   "metadata": {},
   "outputs": [],
   "source": [
    "year_price_list[\"price\"] = year_price_list[\"price\"].apply(lambda x: str(x) )"
   ]
  },
  {
   "cell_type": "code",
   "execution_count": 65,
   "metadata": {},
   "outputs": [
    {
     "data": {
      "text/plain": [
       "[]"
      ]
     },
     "execution_count": 65,
     "metadata": {},
     "output_type": "execute_result"
    }
   ],
   "source": [
    "list(year_price_list[\"price\"])"
   ]
  },
  {
   "cell_type": "code",
   "execution_count": null,
   "metadata": {},
   "outputs": [],
   "source": []
  }
 ],
 "metadata": {
  "hide_input": false,
  "kernelspec": {
   "display_name": "Python 3",
   "language": "python",
   "name": "python3"
  },
  "language_info": {
   "codemirror_mode": {
    "name": "ipython",
    "version": 3
   },
   "file_extension": ".py",
   "mimetype": "text/x-python",
   "name": "python",
   "nbconvert_exporter": "python",
   "pygments_lexer": "ipython3",
   "version": "3.6.3"
  },
  "latex_envs": {
   "LaTeX_envs_menu_present": true,
   "autoclose": false,
   "autocomplete": true,
   "bibliofile": "biblio.bib",
   "cite_by": "apalike",
   "current_citInitial": 1,
   "eqLabelWithNumbers": true,
   "eqNumInitial": 1,
   "hotkeys": {
    "equation": "Ctrl-E",
    "itemize": "Ctrl-I"
   },
   "labels_anchors": false,
   "latex_user_defs": false,
   "report_style_numbering": false,
   "user_envs_cfg": false
  },
  "toc": {
   "nav_menu": {},
   "number_sections": true,
   "sideBar": true,
   "skip_h1_title": false,
   "title_cell": "Table of Contents",
   "title_sidebar": "Contents",
   "toc_cell": false,
   "toc_position": {},
   "toc_section_display": true,
   "toc_window_display": false
  }
 },
 "nbformat": 4,
 "nbformat_minor": 2
}

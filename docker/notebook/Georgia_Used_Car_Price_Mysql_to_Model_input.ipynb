{
 "cells": [
  {
   "cell_type": "markdown",
   "metadata": {},
   "source": [
    "# DB 와 자료준비"
   ]
  },
  {
   "cell_type": "markdown",
   "metadata": {},
   "source": [
    "매번 인터넷으로 받아오면 시간이 너무 오래 걸리기에, csv 파일로 내보내진 파일을 불러와서 DB 에 넣고 바로 시작한다."
   ]
  },
  {
   "cell_type": "code",
   "execution_count": 1,
   "metadata": {
    "ExecuteTime": {
     "end_time": "2018-04-10T01:06:39.178319Z",
     "start_time": "2018-04-10T01:06:37.591210Z"
    }
   },
   "outputs": [
    {
     "name": "stdout",
     "output_type": "stream",
     "text": [
      "2018-04-12 19:41:38,949 INFO sqlalchemy.engine.base.Engine SHOW VARIABLES LIKE 'sql_mode'\n",
      "2018-04-12 19:41:38,950 INFO sqlalchemy.engine.base.Engine ()\n",
      "2018-04-12 19:41:38,955 INFO sqlalchemy.engine.base.Engine SELECT DATABASE()\n",
      "2018-04-12 19:41:38,956 INFO sqlalchemy.engine.base.Engine ()\n",
      "2018-04-12 19:41:38,958 INFO sqlalchemy.engine.base.Engine show collation where `Charset` = 'utf8' and `Collation` = 'utf8_bin'\n",
      "2018-04-12 19:41:38,958 INFO sqlalchemy.engine.base.Engine ()\n",
      "2018-04-12 19:41:38,960 INFO sqlalchemy.engine.base.Engine SELECT CAST('test plain returns' AS CHAR(60)) AS anon_1\n",
      "2018-04-12 19:41:38,961 INFO sqlalchemy.engine.base.Engine ()\n",
      "2018-04-12 19:41:38,962 INFO sqlalchemy.engine.base.Engine SELECT CAST('test unicode returns' AS CHAR(60)) AS anon_1\n",
      "2018-04-12 19:41:38,963 INFO sqlalchemy.engine.base.Engine ()\n",
      "2018-04-12 19:41:38,964 INFO sqlalchemy.engine.base.Engine SELECT CAST('test collated returns' AS CHAR CHARACTER SET utf8) COLLATE utf8_bin AS anon_1\n",
      "2018-04-12 19:41:38,964 INFO sqlalchemy.engine.base.Engine ()\n",
      "2018-04-12 19:41:38,966 INFO sqlalchemy.engine.base.Engine DESCRIBE `used_car`\n",
      "2018-04-12 19:41:38,966 INFO sqlalchemy.engine.base.Engine ()\n",
      "2018-04-12 19:41:39,011 INFO sqlalchemy.engine.base.Engine DESCRIBE `used_car`\n",
      "2018-04-12 19:41:39,012 INFO sqlalchemy.engine.base.Engine ()\n",
      "2018-04-12 19:41:39,020 INFO sqlalchemy.engine.base.Engine DESCRIBE `used_car`\n",
      "2018-04-12 19:41:39,021 INFO sqlalchemy.engine.base.Engine ()\n",
      "2018-04-12 19:41:39,022 INFO sqlalchemy.engine.base.Engine SHOW FULL TABLES FROM `used_car`\n",
      "2018-04-12 19:41:39,022 INFO sqlalchemy.engine.base.Engine ()\n",
      "2018-04-12 19:41:39,059 INFO sqlalchemy.engine.base.Engine SHOW CREATE TABLE `used_car`\n",
      "2018-04-12 19:41:39,060 INFO sqlalchemy.engine.base.Engine ()\n",
      "2018-04-12 19:41:39,071 INFO sqlalchemy.engine.base.Engine \n",
      "DROP TABLE used_car\n",
      "2018-04-12 19:41:39,072 INFO sqlalchemy.engine.base.Engine ()\n",
      "2018-04-12 19:41:39,099 INFO sqlalchemy.engine.base.Engine COMMIT\n",
      "2018-04-12 19:41:39,105 INFO sqlalchemy.engine.base.Engine \n",
      "CREATE TABLE used_car (\n",
      "\t`index` BIGINT, \n",
      "\t`Unnamed: 0` BIGINT, \n",
      "\tcompany TEXT, \n",
      "\tdrivertrain TEXT, \n",
      "\texterior_color TEXT, \n",
      "\tinterior_color TEXT, \n",
      "\tmile BIGINT, \n",
      "\tphotos BIGINT, \n",
      "\tprice BIGINT, \n",
      "\treview_no BIGINT, \n",
      "\tstar FLOAT(53), \n",
      "\tsubname TEXT, \n",
      "\ttitle TEXT, \n",
      "\ttransmission TEXT, \n",
      "\tvendor TEXT, \n",
      "\tvideo BIGINT, \n",
      "\tyear BIGINT\n",
      ")\n",
      "\n",
      "\n",
      "2018-04-12 19:41:39,106 INFO sqlalchemy.engine.base.Engine ()\n",
      "2018-04-12 19:41:39,155 INFO sqlalchemy.engine.base.Engine COMMIT\n",
      "2018-04-12 19:41:39,156 INFO sqlalchemy.engine.base.Engine CREATE INDEX ix_used_car_index ON used_car (`index`)\n",
      "2018-04-12 19:41:39,157 INFO sqlalchemy.engine.base.Engine ()\n"
     ]
    },
    {
     "name": "stderr",
     "output_type": "stream",
     "text": [
      "/opt/conda/lib/python3.6/site-packages/sqlalchemy/dialects/mysql/base.py:1569: Warning: (1287, \"'@@tx_isolation' is deprecated and will be removed in a future release. Please use '@@transaction_isolation' instead\")\n",
      "  cursor.execute('SELECT @@tx_isolation')\n"
     ]
    },
    {
     "name": "stdout",
     "output_type": "stream",
     "text": [
      "2018-04-12 19:41:39,188 INFO sqlalchemy.engine.base.Engine COMMIT\n",
      "2018-04-12 19:41:39,196 INFO sqlalchemy.engine.base.Engine BEGIN (implicit)\n",
      "2018-04-12 19:41:39,270 INFO sqlalchemy.engine.base.Engine INSERT INTO used_car (`index`, `Unnamed: 0`, company, drivertrain, exterior_color, interior_color, mile, photos, price, review_no, star, subname, title, transmission, vendor, video, year) VALUES (%s, %s, %s, %s, %s, %s, %s, %s, %s, %s, %s, %s, %s, %s, %s, %s, %s)\n",
      "2018-04-12 19:41:39,270 INFO sqlalchemy.engine.base.Engine ((0, 0, 'Subaru', '4wd', 'Desert Khaki', 'Black', 26525, 23, 17999, 43, 5.0, 'Crosstrek', 'Subaru Crosstrek 2.0i', '5-speed', '1st Choice Autos', 1, 2016), (1, 1, 'Mazda', '4wd', 'Silver', 'Gray', 118205, 21, 3750, 43, 5.0, 'Tribute', 'Mazda Tribute LX V6', '4-speed', '1st Choice Autos', 1, 2003), (2, 2, 'Ford', '4wd', 'Race Red', 'Black', 2330, 32, 53900, 244, 5.0, 'F-150', 'Ford F-150 Raptor', '1-speed', 'Gilbert & Baugh Ford', 1, 2018), (3, 3, 'Porsche', '4wd', 'Gray', 'Black', 14698, 32, 89997, 10, 5.0, 'Cayman', 'Porsche Cayman GT4', '6-speed', 'Exclusive Auto Wholesale', 1, 2016), (4, 4, 'Chevrolet', '4wd', 'Red Hot', 'Jet Black', 1704, 32, 24000, 117, 5.0, 'Camaro', 'Chevrolet Camaro LT', '8-speed', 'Subaru of Gainesville', 1, 2017), (5, 5, 'Mercedes-Benz', 'rwd', 'Palladium Silver Metallic', 'Silk Beige / Espresso Brown', 121078, 32, 32991, 939, 5.0, 'S', 'Mercedes-Benz S 550', '7-speed', 'Hendrick BMW', 1, 2014), (6, 6, 'INFINITI', 'rwd', 'Platinum', 'Black', 31736, 26, 19998, 18, 5.0, 'Q50', 'INFINITI Q50 3.0T Premium', '7-speed', 'Hertz Car Sales Winston-Salem', 1, 2017), (7, 7, 'Audi', '4wd', 'Silver Metallic', 'Black', 57171, 32, 14500, 201, 5.0, 'TT', 'Audi TT 3.2 quattro', '6-speed', 'CarLotz Greensboro', 1, 2008)  ... displaying 10 of 4900 total bound parameter sets ...  (4898, 4898, 'Cadillac', '4wd', 'Black', 'Black', 15127, 32, 61999, 6967, 5.0, 'Escalade', 'Cadillac Escalade Premium', '8-speed', 'Northwest Motorsport - Puyallup', 1, 2016), (4899, 4899, 'Chevrolet', '4wd', 'Red', 'Gray', 24866, 32, 41999, 6967, 5.0, 'Tahoe', 'Chevrolet Tahoe LT', '6-speed', 'Northwest Motorsport - Puyallup', 1, 2016))\n",
      "2018-04-12 19:41:39,728 INFO sqlalchemy.engine.base.Engine COMMIT\n"
     ]
    }
   ],
   "source": [
    "import pandas as pd # 데이터프레임워크\n",
    "from sqlalchemy import create_engine # 데이터베이스 툴킷\n",
    "#### create table\n",
    "# http://docs.sqlalchemy.org/en/latest/orm/tutorial.html\n",
    "from sqlalchemy.ext.declarative import declarative_base\n",
    "Base = declarative_base()\n",
    "\n",
    "# types \n",
    "# http://docs.sqlalchemy.org/en/latest/core/type_basics.html\n",
    "from sqlalchemy import Column, Integer, String, Float\n",
    "\n",
    "class UsedCar(Base):\n",
    "    __tablename__ = 'used_car'\n",
    "\n",
    "    id = Column(Integer, primary_key=True) \n",
    "    year = Column(Integer)\n",
    "    brand = Column(String(16))\n",
    "    model = Column(String(16))\n",
    "    title = Column(String(16))\n",
    "    miles = Column(Integer)\n",
    "    vendor = Column(String(16))\n",
    "    photos = Column(Integer)\n",
    "    video = Column(Integer)\n",
    "    exterior_color = Column(String(16))\n",
    "    interior_color = Column(String(16))\n",
    "    transmission = Column(String(16))\n",
    "    drivertrain = Column(String(16))\n",
    "    star = Column(Float)\n",
    "    review_no = Column(String(16))\n",
    "    price = Column(Integer)\n",
    "\n",
    "    def __repr__(self):\n",
    "        return rtform % (\n",
    "                        self.id, self.year, self.brand, self.model, \n",
    "                        self.title, self.miles, self.vendor, \n",
    "                        self.photos, self.video, self.exterior_color, \n",
    "                        self.interior_color, self.transmission, self.drivertrain, \n",
    "                        self.star, self.review_no, self.price, )\n",
    "    \n",
    "    rtform = \"<UsedCar(id = '%s', year = '%s', brand = '%s', model = '%s',title = '%s', miles = '%s', vendor = '%s', photos = '%s', video = '%s', exterior_color = '%s', interior_color = '%s', transmission = '%s', drivertrain = '%s', star = '%s', review_no = '%s', price = '%s)>\"\n",
    "\n",
    "UsedCar.__table__\n",
    "\n",
    "import pickle\n",
    "    \n",
    "pw = pickle.load(open('./Data/pw.plk','rb'))\n",
    "\n",
    "# write local car_info\n",
    "#engine = create_engine(\"mysql+mysqldb://root:\" + pw.data + \"@127.0.0.1/car_info\", echo=True)\n",
    "engine = create_engine(\"mysql+mysqldb://root:\"+ pw +\"@db/used_car\", echo=True)\n",
    "    \n",
    "Base.metadata.create_all(engine)\n",
    "\n",
    "\n",
    "\n",
    "df= pd.read_csv('car_info.csv')\n",
    "df.to_sql(name=\"used_car\", con=engine, if_exists='replace')"
   ]
  },
  {
   "cell_type": "markdown",
   "metadata": {},
   "source": [
    "# 의존성 설치"
   ]
  },
  {
   "cell_type": "code",
   "execution_count": 6,
   "metadata": {
    "ExecuteTime": {
     "end_time": "2018-04-10T01:06:43.018885Z",
     "start_time": "2018-04-10T01:06:43.012210Z"
    }
   },
   "outputs": [],
   "source": [
    "import MySQLdb, pickle\n",
    "import pandas as pd\n",
    "import numpy as np\n",
    "from sqlalchemy import create_engine\n",
    "from collections import Counter\n",
    "from matplotlib import pyplot as plt"
   ]
  },
  {
   "cell_type": "code",
   "execution_count": 7,
   "metadata": {
    "ExecuteTime": {
     "end_time": "2018-04-10T01:06:44.211393Z",
     "start_time": "2018-04-10T01:06:44.076681Z"
    }
   },
   "outputs": [
    {
     "data": {
      "text/html": [
       "<div>\n",
       "<style scoped>\n",
       "    .dataframe tbody tr th:only-of-type {\n",
       "        vertical-align: middle;\n",
       "    }\n",
       "\n",
       "    .dataframe tbody tr th {\n",
       "        vertical-align: top;\n",
       "    }\n",
       "\n",
       "    .dataframe thead th {\n",
       "        text-align: right;\n",
       "    }\n",
       "</style>\n",
       "<table border=\"1\" class=\"dataframe\">\n",
       "  <thead>\n",
       "    <tr style=\"text-align: right;\">\n",
       "      <th></th>\n",
       "      <th>index</th>\n",
       "      <th>brand</th>\n",
       "      <th>drivetrain</th>\n",
       "      <th>exterior_color</th>\n",
       "      <th>interior_color</th>\n",
       "      <th>miles</th>\n",
       "      <th>model</th>\n",
       "      <th>photos</th>\n",
       "      <th>price</th>\n",
       "      <th>review_no</th>\n",
       "      <th>star</th>\n",
       "      <th>title</th>\n",
       "      <th>transmission</th>\n",
       "      <th>vendor</th>\n",
       "      <th>video</th>\n",
       "      <th>year</th>\n",
       "    </tr>\n",
       "  </thead>\n",
       "  <tbody>\n",
       "    <tr>\n",
       "      <th>0</th>\n",
       "      <td>0</td>\n",
       "      <td>Honda</td>\n",
       "      <td>4wd</td>\n",
       "      <td>Nighthawk Black Pearl</td>\n",
       "      <td>30547</td>\n",
       "      <td>125100</td>\n",
       "      <td>Civic</td>\n",
       "      <td>32</td>\n",
       "      <td>4989</td>\n",
       "      <td>22</td>\n",
       "      <td>5.0</td>\n",
       "      <td>Honda Civic EX</td>\n",
       "      <td>5-speed</td>\n",
       "      <td>Atlanta Best Auto Collection</td>\n",
       "      <td>1</td>\n",
       "      <td>2006</td>\n",
       "    </tr>\n",
       "    <tr>\n",
       "      <th>1</th>\n",
       "      <td>1</td>\n",
       "      <td>Porsche</td>\n",
       "      <td>4wd</td>\n",
       "      <td>White</td>\n",
       "      <td>Black</td>\n",
       "      <td>47991</td>\n",
       "      <td>Cayenne</td>\n",
       "      <td>32</td>\n",
       "      <td>45990</td>\n",
       "      <td>83</td>\n",
       "      <td>5.0</td>\n",
       "      <td>Porsche Cayenne GTS</td>\n",
       "      <td>8-speed</td>\n",
       "      <td>Momentum Motorcars</td>\n",
       "      <td>1</td>\n",
       "      <td>2013</td>\n",
       "    </tr>\n",
       "    <tr>\n",
       "      <th>2</th>\n",
       "      <td>2</td>\n",
       "      <td>Nissan</td>\n",
       "      <td>4wd</td>\n",
       "      <td>Orange</td>\n",
       "      <td>Orange</td>\n",
       "      <td>7365</td>\n",
       "      <td>GT-R</td>\n",
       "      <td>32</td>\n",
       "      <td>92900</td>\n",
       "      <td>7</td>\n",
       "      <td>5.0</td>\n",
       "      <td>Nissan GT-R Premium</td>\n",
       "      <td>6-speed</td>\n",
       "      <td>Nexus Auto Brokers</td>\n",
       "      <td>1</td>\n",
       "      <td>2017</td>\n",
       "    </tr>\n",
       "    <tr>\n",
       "      <th>3</th>\n",
       "      <td>3</td>\n",
       "      <td>BMW</td>\n",
       "      <td>4wd</td>\n",
       "      <td>White</td>\n",
       "      <td>TAN</td>\n",
       "      <td>83075</td>\n",
       "      <td>328</td>\n",
       "      <td>32</td>\n",
       "      <td>9997</td>\n",
       "      <td>11</td>\n",
       "      <td>5.0</td>\n",
       "      <td>BMW 328 i</td>\n",
       "      <td>6-speed</td>\n",
       "      <td>Exclusive Auto Wholesale</td>\n",
       "      <td>1</td>\n",
       "      <td>2011</td>\n",
       "    </tr>\n",
       "    <tr>\n",
       "      <th>4</th>\n",
       "      <td>4</td>\n",
       "      <td>Audi</td>\n",
       "      <td>4wd</td>\n",
       "      <td>Cuvee Silver Metallic</td>\n",
       "      <td>Black</td>\n",
       "      <td>28990</td>\n",
       "      <td>A4</td>\n",
       "      <td>27</td>\n",
       "      <td>29498</td>\n",
       "      <td>29</td>\n",
       "      <td>5.0</td>\n",
       "      <td>Audi A4 2.0T Premium Plus quattro</td>\n",
       "      <td>7-speed</td>\n",
       "      <td>Hertz Car Sales Charlotte</td>\n",
       "      <td>1</td>\n",
       "      <td>2017</td>\n",
       "    </tr>\n",
       "    <tr>\n",
       "      <th>5</th>\n",
       "      <td>5</td>\n",
       "      <td>BMW</td>\n",
       "      <td>4wd</td>\n",
       "      <td>Black</td>\n",
       "      <td>Black</td>\n",
       "      <td>24720</td>\n",
       "      <td>X5</td>\n",
       "      <td>29</td>\n",
       "      <td>35998</td>\n",
       "      <td>29</td>\n",
       "      <td>5.0</td>\n",
       "      <td>BMW X5 xDrive35i</td>\n",
       "      <td>8-speed</td>\n",
       "      <td>Hertz Car Sales Charlotte</td>\n",
       "      <td>1</td>\n",
       "      <td>2016</td>\n",
       "    </tr>\n",
       "    <tr>\n",
       "      <th>6</th>\n",
       "      <td>6</td>\n",
       "      <td>Ford</td>\n",
       "      <td>4wd</td>\n",
       "      <td>Black</td>\n",
       "      <td>Black</td>\n",
       "      <td>60354</td>\n",
       "      <td>Mustang</td>\n",
       "      <td>24</td>\n",
       "      <td>8650</td>\n",
       "      <td>15</td>\n",
       "      <td>5.0</td>\n",
       "      <td>Ford Mustang Premium</td>\n",
       "      <td>5-speed</td>\n",
       "      <td>Car Lot of Lenoir</td>\n",
       "      <td>1</td>\n",
       "      <td>2008</td>\n",
       "    </tr>\n",
       "    <tr>\n",
       "      <th>7</th>\n",
       "      <td>7</td>\n",
       "      <td>Jeep</td>\n",
       "      <td>4wd</td>\n",
       "      <td>Blue</td>\n",
       "      <td>Tan</td>\n",
       "      <td>165272</td>\n",
       "      <td>Grand</td>\n",
       "      <td>22</td>\n",
       "      <td>2900</td>\n",
       "      <td>102</td>\n",
       "      <td>5.0</td>\n",
       "      <td>Jeep Grand Cherokee Laredo</td>\n",
       "      <td>6-speed</td>\n",
       "      <td>Ride On Auto</td>\n",
       "      <td>1</td>\n",
       "      <td>2004</td>\n",
       "    </tr>\n",
       "    <tr>\n",
       "      <th>8</th>\n",
       "      <td>8</td>\n",
       "      <td>BMW</td>\n",
       "      <td>rwd</td>\n",
       "      <td>White</td>\n",
       "      <td>Ivory</td>\n",
       "      <td>74187</td>\n",
       "      <td>320</td>\n",
       "      <td>32</td>\n",
       "      <td>13991</td>\n",
       "      <td>8</td>\n",
       "      <td>5.0</td>\n",
       "      <td>BMW 320 i</td>\n",
       "      <td>8-speed</td>\n",
       "      <td>Armada Motors Inc</td>\n",
       "      <td>1</td>\n",
       "      <td>2014</td>\n",
       "    </tr>\n",
       "    <tr>\n",
       "      <th>9</th>\n",
       "      <td>9</td>\n",
       "      <td>Jeep</td>\n",
       "      <td>4wd</td>\n",
       "      <td>Blue</td>\n",
       "      <td>Blue</td>\n",
       "      <td>101057</td>\n",
       "      <td>Wrangler</td>\n",
       "      <td>28</td>\n",
       "      <td>13950</td>\n",
       "      <td>16</td>\n",
       "      <td>5.0</td>\n",
       "      <td>Jeep Wrangler Unlimited</td>\n",
       "      <td>4-speed</td>\n",
       "      <td>40/42 Motorsports</td>\n",
       "      <td>1</td>\n",
       "      <td>2006</td>\n",
       "    </tr>\n",
       "    <tr>\n",
       "      <th>10</th>\n",
       "      <td>10</td>\n",
       "      <td>Jeep</td>\n",
       "      <td>4wd</td>\n",
       "      <td>Flame Red</td>\n",
       "      <td>Dark Slate Gray/Medium Slate Gray</td>\n",
       "      <td>167142</td>\n",
       "      <td>Wrangler</td>\n",
       "      <td>31</td>\n",
       "      <td>15858</td>\n",
       "      <td>6</td>\n",
       "      <td>5.0</td>\n",
       "      <td>Jeep Wrangler Unlimited Rubicon</td>\n",
       "      <td>6-speed</td>\n",
       "      <td>Pine Belt Chevrolet</td>\n",
       "      <td>1</td>\n",
       "      <td>2009</td>\n",
       "    </tr>\n",
       "    <tr>\n",
       "      <th>11</th>\n",
       "      <td>11</td>\n",
       "      <td>Cadillac</td>\n",
       "      <td>rwd</td>\n",
       "      <td>Black Raven</td>\n",
       "      <td>Cashmere / Cocoa</td>\n",
       "      <td>48923</td>\n",
       "      <td>CTS</td>\n",
       "      <td>27</td>\n",
       "      <td>14889</td>\n",
       "      <td>661</td>\n",
       "      <td>5.0</td>\n",
       "      <td>Cadillac CTS Luxury</td>\n",
       "      <td>6-speed</td>\n",
       "      <td>Leith Wendell</td>\n",
       "      <td>1</td>\n",
       "      <td>2012</td>\n",
       "    </tr>\n",
       "    <tr>\n",
       "      <th>12</th>\n",
       "      <td>12</td>\n",
       "      <td>McLaren</td>\n",
       "      <td>rwd</td>\n",
       "      <td>Ceramic Gray</td>\n",
       "      <td>Orange</td>\n",
       "      <td>3743</td>\n",
       "      <td>675LT</td>\n",
       "      <td>49</td>\n",
       "      <td>329951</td>\n",
       "      <td>6</td>\n",
       "      <td>5.0</td>\n",
       "      <td>McLaren 675LT Spider</td>\n",
       "      <td>7-speed</td>\n",
       "      <td>Lamborghini Palm Beach</td>\n",
       "      <td>1</td>\n",
       "      <td>2016</td>\n",
       "    </tr>\n",
       "    <tr>\n",
       "      <th>13</th>\n",
       "      <td>13</td>\n",
       "      <td>Toyota</td>\n",
       "      <td>rwd</td>\n",
       "      <td>Red</td>\n",
       "      <td>Oak</td>\n",
       "      <td>209737</td>\n",
       "      <td>Sequoia</td>\n",
       "      <td>20</td>\n",
       "      <td>3987</td>\n",
       "      <td>36</td>\n",
       "      <td>5.0</td>\n",
       "      <td>Toyota Sequoia SR5</td>\n",
       "      <td>4-speed</td>\n",
       "      <td>Superior Hyundai of Beavercreek</td>\n",
       "      <td>1</td>\n",
       "      <td>2002</td>\n",
       "    </tr>\n",
       "    <tr>\n",
       "      <th>14</th>\n",
       "      <td>14</td>\n",
       "      <td>Honda</td>\n",
       "      <td>4wd</td>\n",
       "      <td>Silver</td>\n",
       "      <td>Gray</td>\n",
       "      <td>167485</td>\n",
       "      <td>Odyssey</td>\n",
       "      <td>32</td>\n",
       "      <td>4995</td>\n",
       "      <td>25</td>\n",
       "      <td>5.0</td>\n",
       "      <td>Honda Odyssey EX-L</td>\n",
       "      <td>5-speed</td>\n",
       "      <td>Widerange LLC</td>\n",
       "      <td>1</td>\n",
       "      <td>2006</td>\n",
       "    </tr>\n",
       "    <tr>\n",
       "      <th>15</th>\n",
       "      <td>15</td>\n",
       "      <td>Dodge</td>\n",
       "      <td>rwd</td>\n",
       "      <td>White</td>\n",
       "      <td>Black</td>\n",
       "      <td>4123</td>\n",
       "      <td>Challenger</td>\n",
       "      <td>31</td>\n",
       "      <td>54899</td>\n",
       "      <td>31</td>\n",
       "      <td>5.0</td>\n",
       "      <td>Dodge Challenger SRT Hellcat</td>\n",
       "      <td>6-speed</td>\n",
       "      <td>Omega AutoSports</td>\n",
       "      <td>1</td>\n",
       "      <td>2016</td>\n",
       "    </tr>\n",
       "    <tr>\n",
       "      <th>16</th>\n",
       "      <td>16</td>\n",
       "      <td>Ford</td>\n",
       "      <td>4wd</td>\n",
       "      <td>Silver</td>\n",
       "      <td>Black</td>\n",
       "      <td>36113</td>\n",
       "      <td>Focus</td>\n",
       "      <td>31</td>\n",
       "      <td>9989</td>\n",
       "      <td>31</td>\n",
       "      <td>5.0</td>\n",
       "      <td>Ford Focus</td>\n",
       "      <td>6-speed</td>\n",
       "      <td>Omega AutoSports</td>\n",
       "      <td>1</td>\n",
       "      <td>2015</td>\n",
       "    </tr>\n",
       "    <tr>\n",
       "      <th>17</th>\n",
       "      <td>17</td>\n",
       "      <td>Jeep</td>\n",
       "      <td>4wd</td>\n",
       "      <td>Bright Silver Clearcoat Metallic</td>\n",
       "      <td>Medium Slate Gray</td>\n",
       "      <td>262256</td>\n",
       "      <td>Grand</td>\n",
       "      <td>30</td>\n",
       "      <td>2679</td>\n",
       "      <td>49</td>\n",
       "      <td>5.0</td>\n",
       "      <td>Jeep Grand Cherokee Laredo</td>\n",
       "      <td>6-speed</td>\n",
       "      <td>Hosick Motors</td>\n",
       "      <td>1</td>\n",
       "      <td>2005</td>\n",
       "    </tr>\n",
       "    <tr>\n",
       "      <th>18</th>\n",
       "      <td>18</td>\n",
       "      <td>Mercedes-Benz</td>\n",
       "      <td>4wd</td>\n",
       "      <td>Steel Gray Metallic</td>\n",
       "      <td>Black</td>\n",
       "      <td>65466</td>\n",
       "      <td>GLK</td>\n",
       "      <td>32</td>\n",
       "      <td>14426</td>\n",
       "      <td>105</td>\n",
       "      <td>5.0</td>\n",
       "      <td>Mercedes-Benz GLK 350 4MATIC</td>\n",
       "      <td>7-speed</td>\n",
       "      <td>Auto Buying Service</td>\n",
       "      <td>1</td>\n",
       "      <td>2010</td>\n",
       "    </tr>\n",
       "    <tr>\n",
       "      <th>19</th>\n",
       "      <td>19</td>\n",
       "      <td>BMW</td>\n",
       "      <td>rwd</td>\n",
       "      <td>White</td>\n",
       "      <td>Black</td>\n",
       "      <td>4413</td>\n",
       "      <td>M2</td>\n",
       "      <td>21</td>\n",
       "      <td>53998</td>\n",
       "      <td>9</td>\n",
       "      <td>4.5</td>\n",
       "      <td>BMW M2</td>\n",
       "      <td>6-speed</td>\n",
       "      <td>CarMax Dulles</td>\n",
       "      <td>1</td>\n",
       "      <td>2017</td>\n",
       "    </tr>\n",
       "  </tbody>\n",
       "</table>\n",
       "</div>"
      ],
      "text/plain": [
       "    index          brand drivetrain                    exterior_color  \\\n",
       "0       0          Honda        4wd             Nighthawk Black Pearl   \n",
       "1       1        Porsche        4wd                             White   \n",
       "2       2         Nissan        4wd                            Orange   \n",
       "3       3            BMW        4wd                             White   \n",
       "4       4           Audi        4wd             Cuvee Silver Metallic   \n",
       "5       5            BMW        4wd                             Black   \n",
       "6       6           Ford        4wd                             Black   \n",
       "7       7           Jeep        4wd                              Blue   \n",
       "8       8            BMW        rwd                             White   \n",
       "9       9           Jeep        4wd                              Blue   \n",
       "10     10           Jeep        4wd                         Flame Red   \n",
       "11     11       Cadillac        rwd                       Black Raven   \n",
       "12     12        McLaren        rwd                      Ceramic Gray   \n",
       "13     13         Toyota        rwd                               Red   \n",
       "14     14          Honda        4wd                            Silver   \n",
       "15     15          Dodge        rwd                             White   \n",
       "16     16           Ford        4wd                            Silver   \n",
       "17     17           Jeep        4wd  Bright Silver Clearcoat Metallic   \n",
       "18     18  Mercedes-Benz        4wd               Steel Gray Metallic   \n",
       "19     19            BMW        rwd                             White   \n",
       "\n",
       "                       interior_color   miles       model  photos   price  \\\n",
       "0                               30547  125100       Civic      32    4989   \n",
       "1                               Black   47991     Cayenne      32   45990   \n",
       "2                              Orange    7365        GT-R      32   92900   \n",
       "3                                 TAN   83075         328      32    9997   \n",
       "4                               Black   28990          A4      27   29498   \n",
       "5                               Black   24720          X5      29   35998   \n",
       "6                               Black   60354     Mustang      24    8650   \n",
       "7                                 Tan  165272       Grand      22    2900   \n",
       "8                               Ivory   74187         320      32   13991   \n",
       "9                                Blue  101057    Wrangler      28   13950   \n",
       "10  Dark Slate Gray/Medium Slate Gray  167142    Wrangler      31   15858   \n",
       "11                   Cashmere / Cocoa   48923         CTS      27   14889   \n",
       "12                             Orange    3743       675LT      49  329951   \n",
       "13                                Oak  209737     Sequoia      20    3987   \n",
       "14                               Gray  167485     Odyssey      32    4995   \n",
       "15                              Black    4123  Challenger      31   54899   \n",
       "16                              Black   36113       Focus      31    9989   \n",
       "17                  Medium Slate Gray  262256       Grand      30    2679   \n",
       "18                              Black   65466         GLK      32   14426   \n",
       "19                              Black    4413          M2      21   53998   \n",
       "\n",
       "    review_no  star                              title transmission  \\\n",
       "0          22   5.0                     Honda Civic EX      5-speed   \n",
       "1          83   5.0                Porsche Cayenne GTS      8-speed   \n",
       "2           7   5.0                Nissan GT-R Premium      6-speed   \n",
       "3          11   5.0                          BMW 328 i      6-speed   \n",
       "4          29   5.0  Audi A4 2.0T Premium Plus quattro      7-speed   \n",
       "5          29   5.0                   BMW X5 xDrive35i      8-speed   \n",
       "6          15   5.0               Ford Mustang Premium      5-speed   \n",
       "7         102   5.0         Jeep Grand Cherokee Laredo      6-speed   \n",
       "8           8   5.0                          BMW 320 i      8-speed   \n",
       "9          16   5.0            Jeep Wrangler Unlimited      4-speed   \n",
       "10          6   5.0    Jeep Wrangler Unlimited Rubicon      6-speed   \n",
       "11        661   5.0                Cadillac CTS Luxury      6-speed   \n",
       "12          6   5.0               McLaren 675LT Spider      7-speed   \n",
       "13         36   5.0                 Toyota Sequoia SR5      4-speed   \n",
       "14         25   5.0                 Honda Odyssey EX-L      5-speed   \n",
       "15         31   5.0       Dodge Challenger SRT Hellcat      6-speed   \n",
       "16         31   5.0                         Ford Focus      6-speed   \n",
       "17         49   5.0         Jeep Grand Cherokee Laredo      6-speed   \n",
       "18        105   5.0       Mercedes-Benz GLK 350 4MATIC      7-speed   \n",
       "19          9   4.5                             BMW M2      6-speed   \n",
       "\n",
       "                             vendor  video  year  \n",
       "0      Atlanta Best Auto Collection      1  2006  \n",
       "1                Momentum Motorcars      1  2013  \n",
       "2                Nexus Auto Brokers      1  2017  \n",
       "3          Exclusive Auto Wholesale      1  2011  \n",
       "4         Hertz Car Sales Charlotte      1  2017  \n",
       "5         Hertz Car Sales Charlotte      1  2016  \n",
       "6                 Car Lot of Lenoir      1  2008  \n",
       "7                      Ride On Auto      1  2004  \n",
       "8                 Armada Motors Inc      1  2014  \n",
       "9                 40/42 Motorsports      1  2006  \n",
       "10              Pine Belt Chevrolet      1  2009  \n",
       "11                    Leith Wendell      1  2012  \n",
       "12           Lamborghini Palm Beach      1  2016  \n",
       "13  Superior Hyundai of Beavercreek      1  2002  \n",
       "14                    Widerange LLC      1  2006  \n",
       "15                 Omega AutoSports      1  2016  \n",
       "16                 Omega AutoSports      1  2015  \n",
       "17                    Hosick Motors      1  2005  \n",
       "18              Auto Buying Service      1  2010  \n",
       "19                    CarMax Dulles      1  2017  "
      ]
     },
     "execution_count": 7,
     "metadata": {},
     "output_type": "execute_result"
    }
   ],
   "source": [
    "# read local car_info popular \n",
    "# pw = pickle.load(open('./Data/pw.p','rb'))\n",
    "\n",
    "# http://mysql-python.sourceforge.net/MySQLdb.html\n",
    "\n",
    "db = MySQLdb.connect(\n",
    "    host=\"mysql\",\n",
    "    user=\"root\",\n",
    "    passwd='0',\n",
    "    db='used_car',\n",
    "    charset='utf8',\n",
    ")\n",
    "\n",
    "SQL_QUERY = \"\"\"\n",
    "    SELECT *\n",
    "    FROM used_car;\n",
    "\"\"\"\n",
    "\n",
    "train = pd.read_sql(SQL_QUERY, db)\n",
    "train.head(20)"
   ]
  },
  {
   "cell_type": "code",
   "execution_count": 8,
   "metadata": {},
   "outputs": [],
   "source": [
    "brand_list = []\n",
    "# 모든 회사 중 가장 공통된(이름이 들쪽날쭉하지 않고 균일한 것)중 30개를 고른다.\n",
    "# https://docs.python.org/2/library/collections.html#collections.Counter.most_common\n",
    "for brand in Counter(train.brand).most_common(30):\n",
    "    brand_list.append(brand[0])"
   ]
  },
  {
   "cell_type": "code",
   "execution_count": 9,
   "metadata": {
    "ExecuteTime": {
     "end_time": "2018-04-10T01:08:54.418979Z",
     "start_time": "2018-04-10T01:08:54.410046Z"
    }
   },
   "outputs": [],
   "source": [
    "# most_common 30 이 아닌 것들의 인덱스를 구한다.\n",
    "idx_list = []\n",
    "idx = 0\n",
    "for i in train[\"brand\"]:\n",
    "    if i not in brand_list:\n",
    "        idx_list.append(idx)\n",
    "    idx += 1"
   ]
  },
  {
   "cell_type": "code",
   "execution_count": 10,
   "metadata": {
    "ExecuteTime": {
     "end_time": "2018-04-10T01:08:55.430908Z",
     "start_time": "2018-04-10T01:08:55.426670Z"
    }
   },
   "outputs": [
    {
     "data": {
      "text/plain": [
       "(200, 16)"
      ]
     },
     "execution_count": 10,
     "metadata": {},
     "output_type": "execute_result"
    }
   ],
   "source": [
    "# 행, 열 개수 반환\n",
    "train.shape"
   ]
  },
  {
   "cell_type": "code",
   "execution_count": 11,
   "metadata": {
    "ExecuteTime": {
     "end_time": "2018-04-10T01:09:24.910426Z",
     "start_time": "2018-04-10T01:09:24.868018Z"
    }
   },
   "outputs": [],
   "source": [
    "# 인덱스를 이용해서 most_common 30 만 남기고 train 데이터 프레임워크를 지운다.\n",
    "train = train.drop(idx_list)\n",
    "# 남아있는 데이터 프레임워크의 인덱스 컬럼을 생성한다.\n",
    "train.reset_index(drop=True, inplace=True)\n",
    "train = train.drop(\"index\", axis=1)"
   ]
  },
  {
   "cell_type": "markdown",
   "metadata": {},
   "source": [
    "Feature engineering"
   ]
  },
  {
   "cell_type": "code",
   "execution_count": 12,
   "metadata": {
    "ExecuteTime": {
     "end_time": "2018-04-10T01:12:05.251375Z",
     "start_time": "2018-04-10T01:12:05.248770Z"
    }
   },
   "outputs": [],
   "source": [
    "# 분류 특징(열)을 회사명과 서브이름으로\n",
    "categorical_features = ['brand', 'model']"
   ]
  },
  {
   "cell_type": "code",
   "execution_count": 13,
   "metadata": {
    "ExecuteTime": {
     "end_time": "2018-04-10T01:12:21.819720Z",
     "start_time": "2018-04-10T01:12:21.766236Z"
    }
   },
   "outputs": [
    {
     "data": {
      "text/html": [
       "<div>\n",
       "<style scoped>\n",
       "    .dataframe tbody tr th:only-of-type {\n",
       "        vertical-align: middle;\n",
       "    }\n",
       "\n",
       "    .dataframe tbody tr th {\n",
       "        vertical-align: top;\n",
       "    }\n",
       "\n",
       "    .dataframe thead th {\n",
       "        text-align: right;\n",
       "    }\n",
       "</style>\n",
       "<table border=\"1\" class=\"dataframe\">\n",
       "  <thead>\n",
       "    <tr style=\"text-align: right;\">\n",
       "      <th></th>\n",
       "      <th>brand_Acura</th>\n",
       "      <th>brand_Audi</th>\n",
       "      <th>brand_BMW</th>\n",
       "      <th>brand_Cadillac</th>\n",
       "      <th>brand_Chevrolet</th>\n",
       "      <th>brand_Chrysler</th>\n",
       "      <th>brand_Dodge</th>\n",
       "      <th>brand_Ford</th>\n",
       "      <th>brand_Honda</th>\n",
       "      <th>brand_Hyundai</th>\n",
       "      <th>...</th>\n",
       "      <th>model_Supra</th>\n",
       "      <th>model_TL</th>\n",
       "      <th>model_Tundra</th>\n",
       "      <th>model_WRX</th>\n",
       "      <th>model_Wrangler</th>\n",
       "      <th>model_X-Type</th>\n",
       "      <th>model_X5</th>\n",
       "      <th>model_X6</th>\n",
       "      <th>model_XK</th>\n",
       "      <th>model_xA</th>\n",
       "    </tr>\n",
       "  </thead>\n",
       "  <tbody>\n",
       "    <tr>\n",
       "      <th>0</th>\n",
       "      <td>0</td>\n",
       "      <td>0</td>\n",
       "      <td>0</td>\n",
       "      <td>0</td>\n",
       "      <td>0</td>\n",
       "      <td>0</td>\n",
       "      <td>0</td>\n",
       "      <td>0</td>\n",
       "      <td>1</td>\n",
       "      <td>0</td>\n",
       "      <td>...</td>\n",
       "      <td>0</td>\n",
       "      <td>0</td>\n",
       "      <td>0</td>\n",
       "      <td>0</td>\n",
       "      <td>0</td>\n",
       "      <td>0</td>\n",
       "      <td>0</td>\n",
       "      <td>0</td>\n",
       "      <td>0</td>\n",
       "      <td>0</td>\n",
       "    </tr>\n",
       "    <tr>\n",
       "      <th>1</th>\n",
       "      <td>0</td>\n",
       "      <td>0</td>\n",
       "      <td>0</td>\n",
       "      <td>0</td>\n",
       "      <td>0</td>\n",
       "      <td>0</td>\n",
       "      <td>0</td>\n",
       "      <td>0</td>\n",
       "      <td>0</td>\n",
       "      <td>0</td>\n",
       "      <td>...</td>\n",
       "      <td>0</td>\n",
       "      <td>0</td>\n",
       "      <td>0</td>\n",
       "      <td>0</td>\n",
       "      <td>0</td>\n",
       "      <td>0</td>\n",
       "      <td>0</td>\n",
       "      <td>0</td>\n",
       "      <td>0</td>\n",
       "      <td>0</td>\n",
       "    </tr>\n",
       "    <tr>\n",
       "      <th>2</th>\n",
       "      <td>0</td>\n",
       "      <td>0</td>\n",
       "      <td>0</td>\n",
       "      <td>0</td>\n",
       "      <td>0</td>\n",
       "      <td>0</td>\n",
       "      <td>0</td>\n",
       "      <td>0</td>\n",
       "      <td>0</td>\n",
       "      <td>0</td>\n",
       "      <td>...</td>\n",
       "      <td>0</td>\n",
       "      <td>0</td>\n",
       "      <td>0</td>\n",
       "      <td>0</td>\n",
       "      <td>0</td>\n",
       "      <td>0</td>\n",
       "      <td>0</td>\n",
       "      <td>0</td>\n",
       "      <td>0</td>\n",
       "      <td>0</td>\n",
       "    </tr>\n",
       "    <tr>\n",
       "      <th>3</th>\n",
       "      <td>0</td>\n",
       "      <td>0</td>\n",
       "      <td>1</td>\n",
       "      <td>0</td>\n",
       "      <td>0</td>\n",
       "      <td>0</td>\n",
       "      <td>0</td>\n",
       "      <td>0</td>\n",
       "      <td>0</td>\n",
       "      <td>0</td>\n",
       "      <td>...</td>\n",
       "      <td>0</td>\n",
       "      <td>0</td>\n",
       "      <td>0</td>\n",
       "      <td>0</td>\n",
       "      <td>0</td>\n",
       "      <td>0</td>\n",
       "      <td>0</td>\n",
       "      <td>0</td>\n",
       "      <td>0</td>\n",
       "      <td>0</td>\n",
       "    </tr>\n",
       "    <tr>\n",
       "      <th>4</th>\n",
       "      <td>0</td>\n",
       "      <td>1</td>\n",
       "      <td>0</td>\n",
       "      <td>0</td>\n",
       "      <td>0</td>\n",
       "      <td>0</td>\n",
       "      <td>0</td>\n",
       "      <td>0</td>\n",
       "      <td>0</td>\n",
       "      <td>0</td>\n",
       "      <td>...</td>\n",
       "      <td>0</td>\n",
       "      <td>0</td>\n",
       "      <td>0</td>\n",
       "      <td>0</td>\n",
       "      <td>0</td>\n",
       "      <td>0</td>\n",
       "      <td>0</td>\n",
       "      <td>0</td>\n",
       "      <td>0</td>\n",
       "      <td>0</td>\n",
       "    </tr>\n",
       "  </tbody>\n",
       "</table>\n",
       "<p>5 rows × 137 columns</p>\n",
       "</div>"
      ],
      "text/plain": [
       "   brand_Acura  brand_Audi  brand_BMW  brand_Cadillac  brand_Chevrolet  \\\n",
       "0            0           0          0               0                0   \n",
       "1            0           0          0               0                0   \n",
       "2            0           0          0               0                0   \n",
       "3            0           0          1               0                0   \n",
       "4            0           1          0               0                0   \n",
       "\n",
       "   brand_Chrysler  brand_Dodge  brand_Ford  brand_Honda  brand_Hyundai  \\\n",
       "0               0            0           0            1              0   \n",
       "1               0            0           0            0              0   \n",
       "2               0            0           0            0              0   \n",
       "3               0            0           0            0              0   \n",
       "4               0            0           0            0              0   \n",
       "\n",
       "     ...     model_Supra  model_TL  model_Tundra  model_WRX  model_Wrangler  \\\n",
       "0    ...               0         0             0          0               0   \n",
       "1    ...               0         0             0          0               0   \n",
       "2    ...               0         0             0          0               0   \n",
       "3    ...               0         0             0          0               0   \n",
       "4    ...               0         0             0          0               0   \n",
       "\n",
       "   model_X-Type  model_X5  model_X6  model_XK  model_xA  \n",
       "0             0         0         0         0         0  \n",
       "1             0         0         0         0         0  \n",
       "2             0         0         0         0         0  \n",
       "3             0         0         0         0         0  \n",
       "4             0         0         0         0         0  \n",
       "\n",
       "[5 rows x 137 columns]"
      ]
     },
     "execution_count": 13,
     "metadata": {},
     "output_type": "execute_result"
    }
   ],
   "source": [
    "# 더미 데이터 생성. 두 특성의 상관을 분석하기 위해..\n",
    "# 값이 없는 문자데이터이기 때문에 좌표를 부여해 준 것과 같다.\n",
    "# 더미는 행렬로 생성\n",
    "dummy_cat = pd.get_dummies(train[categorical_features])\n",
    "dummy_cat.head()"
   ]
  },
  {
   "cell_type": "code",
   "execution_count": 14,
   "metadata": {
    "ExecuteTime": {
     "end_time": "2018-04-10T01:15:06.330856Z",
     "start_time": "2018-04-10T01:15:06.328331Z"
    }
   },
   "outputs": [],
   "source": [
    "# 숫자 특성(열) 설정\n",
    "numerical_features = ['year', 'miles','price']"
   ]
  },
  {
   "cell_type": "code",
   "execution_count": 15,
   "metadata": {
    "ExecuteTime": {
     "end_time": "2018-04-10T01:15:03.405694Z",
     "start_time": "2018-04-10T01:15:03.378260Z"
    }
   },
   "outputs": [
    {
     "data": {
      "text/html": [
       "<div>\n",
       "<style scoped>\n",
       "    .dataframe tbody tr th:only-of-type {\n",
       "        vertical-align: middle;\n",
       "    }\n",
       "\n",
       "    .dataframe tbody tr th {\n",
       "        vertical-align: top;\n",
       "    }\n",
       "\n",
       "    .dataframe thead th {\n",
       "        text-align: right;\n",
       "    }\n",
       "</style>\n",
       "<table border=\"1\" class=\"dataframe\">\n",
       "  <thead>\n",
       "    <tr style=\"text-align: right;\">\n",
       "      <th></th>\n",
       "      <th>year</th>\n",
       "      <th>miles</th>\n",
       "      <th>price</th>\n",
       "    </tr>\n",
       "  </thead>\n",
       "  <tbody>\n",
       "    <tr>\n",
       "      <th>0</th>\n",
       "      <td>7.604396</td>\n",
       "      <td>11.736877</td>\n",
       "      <td>8.515191</td>\n",
       "    </tr>\n",
       "    <tr>\n",
       "      <th>1</th>\n",
       "      <td>7.607878</td>\n",
       "      <td>10.778790</td>\n",
       "      <td>10.736201</td>\n",
       "    </tr>\n",
       "    <tr>\n",
       "      <th>2</th>\n",
       "      <td>7.609862</td>\n",
       "      <td>8.904630</td>\n",
       "      <td>11.439290</td>\n",
       "    </tr>\n",
       "    <tr>\n",
       "      <th>3</th>\n",
       "      <td>7.606885</td>\n",
       "      <td>11.327511</td>\n",
       "      <td>9.210140</td>\n",
       "    </tr>\n",
       "    <tr>\n",
       "      <th>4</th>\n",
       "      <td>7.609862</td>\n",
       "      <td>10.274741</td>\n",
       "      <td>10.292112</td>\n",
       "    </tr>\n",
       "  </tbody>\n",
       "</table>\n",
       "</div>"
      ],
      "text/plain": [
       "       year      miles      price\n",
       "0  7.604396  11.736877   8.515191\n",
       "1  7.607878  10.778790  10.736201\n",
       "2  7.609862   8.904630  11.439290\n",
       "3  7.606885  11.327511   9.210140\n",
       "4  7.609862  10.274741  10.292112"
      ]
     },
     "execution_count": 15,
     "metadata": {},
     "output_type": "execute_result"
    }
   ],
   "source": [
    "# 숫자 특성(열)의 값들을 로그함수로 노멀라이즈 해준다. 숫자 크기 뿐 아니라 편차도 줄어든다.\n",
    "normalize_num = np.log1p(train[numerical_features])\n",
    "normalize_num.head()"
   ]
  },
  {
   "cell_type": "code",
   "execution_count": 16,
   "metadata": {
    "ExecuteTime": {
     "end_time": "2018-04-10T01:16:12.404634Z",
     "start_time": "2018-04-10T01:16:12.356801Z"
    }
   },
   "outputs": [],
   "source": [
    "# pre_train = pd.merge(normalize_num, dummy_cat) \n",
    "# 특성들을 합쳐준다.\n",
    "X_train_0 = normalize_num.join(dummy_cat)\n",
    "# 값 특징열을 y_traing 이라는 데이터 페이스로 설정하고\n",
    "y_train = X_train_0[\"price\"]\n",
    "# 이 특징열을 뺀 나머지 정보를 X_train 에 넣는다.\n",
    "X_train = X_train_0.drop(\"price\", axis=1)"
   ]
  },
  {
   "cell_type": "code",
   "execution_count": 17,
   "metadata": {
    "ExecuteTime": {
     "end_time": "2018-04-10T01:21:19.829399Z",
     "start_time": "2018-04-10T01:21:19.405787Z"
    }
   },
   "outputs": [
    {
     "name": "stderr",
     "output_type": "stream",
     "text": [
      "/opt/conda/lib/python3.6/site-packages/sklearn/cross_validation.py:41: DeprecationWarning: This module was deprecated in version 0.18 in favor of the model_selection module into which all the refactored classes and functions are moved. Also note that the interface of the new CV iterators are different from that of this module. This module will be removed in 0.20.\n",
      "  \"This module will be removed in 0.20.\", DeprecationWarning)\n"
     ]
    }
   ],
   "source": [
    "\n",
    "# xgboost 는 분류기를 세트로 묶어서 정확도를 축정하는 예측 기법\n",
    "# https://github.com/dmlc/xgboost/tree/master/python-package\n",
    "from xgboost import XGBRegressor\n",
    "# http://scikit-learn.org/stable/install.html\n",
    "# 교차검정, 모델선택, KFOLD - 다모름\n",
    "from sklearn.cross_validation import train_test_split\n",
    "from sklearn.model_selection import cross_val_score\n",
    "from sklearn.model_selection import KFold\n",
    "\n",
    "k_fold = KFold(n_splits=10, shuffle=True, random_state=2018)\n",
    "X_train1, X_test1, y_train1, y_test1 = train_test_split(X_train, y_train)"
   ]
  },
  {
   "cell_type": "code",
   "execution_count": 18,
   "metadata": {
    "ExecuteTime": {
     "end_time": "2018-04-10T01:21:24.077921Z",
     "start_time": "2018-04-10T01:21:24.070043Z"
    }
   },
   "outputs": [],
   "source": [
    "ml = XGBRegressor(n_estimators=1000, learning_rate=0.05, verbose=False)"
   ]
  },
  {
   "cell_type": "code",
   "execution_count": 37,
   "metadata": {
    "ExecuteTime": {
     "end_time": "2018-04-10T01:25:19.483178Z",
     "start_time": "2018-04-10T01:21:26.692926Z"
    }
   },
   "outputs": [
    {
     "name": "stdout",
     "output_type": "stream",
     "text": [
      "CPU times: user 60 ms, sys: 30 ms, total: 90 ms\n",
      "Wall time: 1.99 s\n",
      "Score = 0.65971\n"
     ]
    }
   ],
   "source": [
    "%time score = cross_val_score(ml, X_train, y_train, cv=k_fold, n_jobs=-1, scoring=\"r2\").mean()\n",
    "\n",
    "print(\"Score = {0:.5f}\".format(score))"
   ]
  },
  {
   "cell_type": "code",
   "execution_count": 27,
   "metadata": {
    "scrolled": true
   },
   "outputs": [
    {
     "data": {
      "image/png": "[encoded data removed]",
      "text/plain": [
       "<matplotlib.figure.Figure at 0x7f7825f0a128>"
      ]
     },
     "metadata": {},
     "output_type": "display_data"
    }
   ],
   "source": [
    "ml = ml.fit(X_train1, y_train1)\n",
    "y_pred = ml.predict(X_test1)\n",
    "\n",
    "plt.figure(figsize=(10, 5))\n",
    "plt.scatter(y_test1, y_pred, s=20)\n",
    "plt.title('Predicted vs. Actual')\n",
    "plt.xlabel('Actual Sale Price')\n",
    "plt.ylabel('Predicted Sale Price')\n",
    "\n",
    "plt.plot([min(y_test1), max(y_test1)], [min(y_test1), max(y_test1)])\n",
    "plt.tight_layout()"
   ]
  },
  {
   "cell_type": "code",
   "execution_count": 28,
   "metadata": {},
   "outputs": [],
   "source": [
    "pickle.dump(ml, open(\"./Flask/models/model.plk\",\"wb\"))"
   ]
  },
  {
   "cell_type": "code",
   "execution_count": 29,
   "metadata": {},
   "outputs": [],
   "source": [
    "actual_car_info = train[[\"brand\", \"model\",\"year\",\"miles\",\"price\"]]\n",
    "pickle.dump(actual_car_info, open(\"./Flask/models/actual_car_info.plk\",\"wb\"))"
   ]
  },
  {
   "cell_type": "code",
   "execution_count": 30,
   "metadata": {
    "ExecuteTime": {
     "end_time": "2018-04-10T03:09:36.485874Z",
     "start_time": "2018-04-10T03:09:33.427308Z"
    }
   },
   "outputs": [
    {
     "name": "stdout",
     "output_type": "stream",
     "text": [
      "brand: honda\n",
      "model: civic\n",
      "year: 2005\n",
      "miles: 30000\n"
     ]
    }
   ],
   "source": [
    "brand = str(input(\"brand: \"))\n",
    "model = str(input(\"model: \"))\n",
    "year = int(input(\"year: \"))\n",
    "miles = int(input(\"miles: \"))"
   ]
  },
  {
   "cell_type": "code",
   "execution_count": 31,
   "metadata": {},
   "outputs": [
    {
     "data": {
      "text/plain": [
       "Index(['year', 'miles', 'brand_Acura', 'brand_Audi', 'brand_BMW',\n",
       "       'brand_Cadillac', 'brand_Chevrolet', 'brand_Chrysler', 'brand_Dodge',\n",
       "       'brand_Ford',\n",
       "       ...\n",
       "       'model_Supra', 'model_TL', 'model_Tundra', 'model_WRX',\n",
       "       'model_Wrangler', 'model_X-Type', 'model_X5', 'model_X6', 'model_XK',\n",
       "       'model_xA'],\n",
       "      dtype='object', length=139)"
      ]
     },
     "execution_count": 31,
     "metadata": {},
     "output_type": "execute_result"
    }
   ],
   "source": [
    "X_train1.columns"
   ]
  },
  {
   "cell_type": "code",
   "execution_count": 24,
   "metadata": {},
   "outputs": [],
   "source": [
    "pickle.dump(X_train1.columns, open(\"./Flask/models/column.plk\",\"wb\"))"
   ]
  },
  {
   "cell_type": "code",
   "execution_count": 32,
   "metadata": {
    "ExecuteTime": {
     "end_time": "2018-04-10T03:11:53.262285Z",
     "start_time": "2018-04-10T03:11:53.228907Z"
    }
   },
   "outputs": [],
   "source": [
    "target = pd.DataFrame(columns = [X_train1.columns])"
   ]
  },
  {
   "cell_type": "code",
   "execution_count": 41,
   "metadata": {},
   "outputs": [
    {
     "data": {
      "text/html": [
       "<div>\n",
       "<style scoped>\n",
       "    .dataframe tbody tr th:only-of-type {\n",
       "        vertical-align: middle;\n",
       "    }\n",
       "\n",
       "    .dataframe tbody tr th {\n",
       "        vertical-align: top;\n",
       "    }\n",
       "\n",
       "    .dataframe thead tr th {\n",
       "        text-align: left;\n",
       "    }\n",
       "</style>\n",
       "<table border=\"1\" class=\"dataframe\">\n",
       "  <thead>\n",
       "    <tr>\n",
       "      <th></th>\n",
       "      <th>year</th>\n",
       "      <th>miles</th>\n",
       "      <th>brand_Acura</th>\n",
       "      <th>brand_Audi</th>\n",
       "      <th>brand_BMW</th>\n",
       "      <th>brand_Cadillac</th>\n",
       "      <th>brand_Chevrolet</th>\n",
       "      <th>brand_Chrysler</th>\n",
       "      <th>brand_Dodge</th>\n",
       "      <th>brand_Ford</th>\n",
       "      <th>...</th>\n",
       "      <th>model_Supra</th>\n",
       "      <th>model_TL</th>\n",
       "      <th>model_Tundra</th>\n",
       "      <th>model_WRX</th>\n",
       "      <th>model_Wrangler</th>\n",
       "      <th>model_X-Type</th>\n",
       "      <th>model_X5</th>\n",
       "      <th>model_X6</th>\n",
       "      <th>model_XK</th>\n",
       "      <th>model_xA</th>\n",
       "    </tr>\n",
       "  </thead>\n",
       "  <tbody>\n",
       "  </tbody>\n",
       "</table>\n",
       "<p>0 rows × 139 columns</p>\n",
       "</div>"
      ],
      "text/plain": [
       "Empty DataFrame\n",
       "Columns: [(year,), (miles,), (brand_Acura,), (brand_Audi,), (brand_BMW,), (brand_Cadillac,), (brand_Chevrolet,), (brand_Chrysler,), (brand_Dodge,), (brand_Ford,), (brand_Honda,), (brand_Hyundai,), (brand_INFINITI,), (brand_Jaguar,), (brand_Jeep,), (brand_Kia,), (brand_Lamborghini,), (brand_Land,), (brand_Lexus,), (brand_Lotus,), (brand_MINI,), (brand_Maserati,), (brand_Mazda,), (brand_McLaren,), (brand_Mercedes-Benz,), (brand_Nissan,), (brand_Porsche,), (brand_Scion,), (brand_Subaru,), (brand_Tesla,), (brand_Toyota,), (brand_Volkswagen,), (model_135,), (model_200,), (model_300,), (model_320,), (model_328,), (model_335,), (model_4Runner,), (model_530,), (model_535,), (model_570S,), (model_675LT,), (model_750,), (model_911,), (model_A4,), (model_A7,), (model_AMG,), (model_ATS-V,), (model_Accord,), (model_Altima,), (model_Aventador,), (model_Boxster,), (model_CLS400,), (model_CTS,), (model_CTS-V,), (model_Camaro,), (model_Camry,), (model_Cayenne,), (model_Cayman,), (model_Challenger,), (model_Charger,), (model_Civic,), (model_Cooper,), (model_Corvette,), (model_Crosstrek,), (model_Cruze,), (model_Durango,), (model_E,), (model_Escalade,), (model_Evora,), (model_F-150,), (model_F-TYPE,), (model_FR-S,), (model_FX50,), (model_Fiesta,), (model_Fit,), (model_Focus,), (model_GLK,), (model_GLS,), (model_GT-R,), (model_GTI,), (model_Gallardo,), (model_Ghibli,), (model_Golf,), (model_Grand,), (model_Highlander,), (model_ILX,), (model_IS,), (model_Impala,), (model_Levante,), (model_M2,), (model_M3,), (model_M4,), (model_M5,), (model_M6,), (model_ML,), (model_MX-5,), (model_Macan,), (model_Magnum,), ...]\n",
       "Index: []\n",
       "\n",
       "[0 rows x 139 columns]"
      ]
     },
     "execution_count": 41,
     "metadata": {},
     "output_type": "execute_result"
    }
   ],
   "source": [
    "target"
   ]
  },
  {
   "cell_type": "code",
   "execution_count": 35,
   "metadata": {
    "ExecuteTime": {
     "end_time": "2018-04-10T03:11:56.202755Z",
     "start_time": "2018-04-10T03:11:56.189608Z"
    }
   },
   "outputs": [
    {
     "data": {
      "text/plain": [
       "139"
      ]
     },
     "execution_count": 35,
     "metadata": {},
     "output_type": "execute_result"
    }
   ],
   "source": [
    "cdx = 0\n",
    "for col in X_train.columns:\n",
    "    if col == 'brand'+\"_\"+brand:\n",
    "        break;\n",
    "    cdx += 1\n",
    "cdx"
   ]
  },
  {
   "cell_type": "code",
   "execution_count": 36,
   "metadata": {
    "ExecuteTime": {
     "end_time": "2018-04-10T03:12:00.778474Z",
     "start_time": "2018-04-10T03:12:00.770608Z"
    }
   },
   "outputs": [
    {
     "data": {
      "text/plain": [
       "139"
      ]
     },
     "execution_count": 36,
     "metadata": {},
     "output_type": "execute_result"
    }
   ],
   "source": [
    "sdx = 0\n",
    "for col in X_train.columns:\n",
    "    if col == 'model'+\"_\"+model:\n",
    "        break;\n",
    "    sdx += 1\n",
    "sdx"
   ]
  },
  {
   "cell_type": "code",
   "execution_count": 37,
   "metadata": {},
   "outputs": [],
   "source": [
    "target_list = np.zeros_like(X_train.loc[0])"
   ]
  },
  {
   "cell_type": "code",
   "execution_count": 38,
   "metadata": {},
   "outputs": [
    {
     "data": {
      "text/plain": [
       "array([0., 0., 0., 0., 0., 0., 0., 0., 0., 0., 0., 0., 0., 0., 0., 0., 0.,\n",
       "       0., 0., 0., 0., 0., 0., 0., 0., 0., 0., 0., 0., 0., 0., 0., 0., 0.,\n",
       "       0., 0., 0., 0., 0., 0., 0., 0., 0., 0., 0., 0., 0., 0., 0., 0., 0.,\n",
       "       0., 0., 0., 0., 0., 0., 0., 0., 0., 0., 0., 0., 0., 0., 0., 0., 0.,\n",
       "       0., 0., 0., 0., 0., 0., 0., 0., 0., 0., 0., 0., 0., 0., 0., 0., 0.,\n",
       "       0., 0., 0., 0., 0., 0., 0., 0., 0., 0., 0., 0., 0., 0., 0., 0., 0.,\n",
       "       0., 0., 0., 0., 0., 0., 0., 0., 0., 0., 0., 0., 0., 0., 0., 0., 0.,\n",
       "       0., 0., 0., 0., 0., 0., 0., 0., 0., 0., 0., 0., 0., 0., 0., 0., 0.,\n",
       "       0., 0., 0.])"
      ]
     },
     "execution_count": 38,
     "metadata": {},
     "output_type": "execute_result"
    }
   ],
   "source": [
    "target_list"
   ]
  },
  {
   "cell_type": "code",
   "execution_count": 39,
   "metadata": {},
   "outputs": [],
   "source": [
    "pickle.dump(target_list, open(\"./Flask/models/target_list.plk\",\"wb\"))"
   ]
  },
  {
   "cell_type": "code",
   "execution_count": 43,
   "metadata": {
    "ExecuteTime": {
     "end_time": "2018-04-10T03:12:03.227026Z",
     "start_time": "2018-04-10T03:12:03.188868Z"
    }
   },
   "outputs": [
    {
     "ename": "IndexError",
     "evalue": "index 139 is out of bounds for axis 0 with size 139",
     "output_type": "error",
     "traceback": [
      "\u001b[0;31m---------------------------------------------------------------------------\u001b[0m",
      "\u001b[0;31mIndexError\u001b[0m                                Traceback (most recent call last)",
      "\u001b[0;32m<ipython-input-43-ba51f5461f06>\u001b[0m in \u001b[0;36m<module>\u001b[0;34m()\u001b[0m\n\u001b[0;32m----> 1\u001b[0;31m \u001b[0mtarget_list\u001b[0m\u001b[0;34m[\u001b[0m\u001b[0mcdx\u001b[0m\u001b[0;34m]\u001b[0m \u001b[0;34m=\u001b[0m \u001b[0;36m1\u001b[0m\u001b[0;34m\u001b[0m\u001b[0m\n\u001b[0m\u001b[1;32m      2\u001b[0m \u001b[0mtarget_list\u001b[0m\u001b[0;34m[\u001b[0m\u001b[0msdx\u001b[0m\u001b[0;34m]\u001b[0m \u001b[0;34m=\u001b[0m \u001b[0;36m1\u001b[0m\u001b[0;34m\u001b[0m\u001b[0m\n\u001b[1;32m      3\u001b[0m \u001b[0mtarget_list\u001b[0m\u001b[0;34m[\u001b[0m\u001b[0;36m0\u001b[0m\u001b[0;34m]\u001b[0m \u001b[0;34m=\u001b[0m \u001b[0myear\u001b[0m\u001b[0;34m\u001b[0m\u001b[0m\n\u001b[1;32m      4\u001b[0m \u001b[0mtarget_list\u001b[0m\u001b[0;34m[\u001b[0m\u001b[0;36m1\u001b[0m\u001b[0;34m]\u001b[0m \u001b[0;34m=\u001b[0m \u001b[0mmiles\u001b[0m\u001b[0;34m\u001b[0m\u001b[0m\n",
      "\u001b[0;31mIndexError\u001b[0m: index 139 is out of bounds for axis 0 with size 139"
     ]
    }
   ],
   "source": [
    "target_list[cdx] = 1\n",
    "target_list[sdx] = 1\n",
    "target_list[0] = year\n",
    "target_list[1] = miles"
   ]
  },
  {
   "cell_type": "code",
   "execution_count": 44,
   "metadata": {
    "ExecuteTime": {
     "end_time": "2018-04-10T03:12:23.213656Z",
     "start_time": "2018-04-10T03:12:23.196878Z"
    },
    "scrolled": true
   },
   "outputs": [],
   "source": [
    "for i in range(1):\n",
    "    target.loc[i] = target_list"
   ]
  },
  {
   "cell_type": "code",
   "execution_count": 42,
   "metadata": {
    "ExecuteTime": {
     "end_time": "2018-04-10T03:12:26.619252Z",
     "start_time": "2018-04-10T03:12:26.587446Z"
    }
   },
   "outputs": [
    {
     "data": {
      "text/html": [
       "<div>\n",
       "<style scoped>\n",
       "    .dataframe tbody tr th:only-of-type {\n",
       "        vertical-align: middle;\n",
       "    }\n",
       "\n",
       "    .dataframe tbody tr th {\n",
       "        vertical-align: top;\n",
       "    }\n",
       "\n",
       "    .dataframe thead tr th {\n",
       "        text-align: left;\n",
       "    }\n",
       "</style>\n",
       "<table border=\"1\" class=\"dataframe\">\n",
       "  <thead>\n",
       "    <tr>\n",
       "      <th></th>\n",
       "      <th>year</th>\n",
       "      <th>miles</th>\n",
       "      <th>brand_Acura</th>\n",
       "      <th>brand_Audi</th>\n",
       "      <th>brand_BMW</th>\n",
       "      <th>brand_Cadillac</th>\n",
       "      <th>brand_Chevrolet</th>\n",
       "      <th>brand_Chrysler</th>\n",
       "      <th>brand_Dodge</th>\n",
       "      <th>brand_Ford</th>\n",
       "      <th>...</th>\n",
       "      <th>model_Supra</th>\n",
       "      <th>model_TL</th>\n",
       "      <th>model_Tundra</th>\n",
       "      <th>model_WRX</th>\n",
       "      <th>model_Wrangler</th>\n",
       "      <th>model_X-Type</th>\n",
       "      <th>model_X5</th>\n",
       "      <th>model_X6</th>\n",
       "      <th>model_XK</th>\n",
       "      <th>model_xA</th>\n",
       "    </tr>\n",
       "  </thead>\n",
       "  <tbody>\n",
       "  </tbody>\n",
       "</table>\n",
       "<p>0 rows × 139 columns</p>\n",
       "</div>"
      ],
      "text/plain": [
       "Empty DataFrame\n",
       "Columns: [(year,), (miles,), (brand_Acura,), (brand_Audi,), (brand_BMW,), (brand_Cadillac,), (brand_Chevrolet,), (brand_Chrysler,), (brand_Dodge,), (brand_Ford,), (brand_Honda,), (brand_Hyundai,), (brand_INFINITI,), (brand_Jaguar,), (brand_Jeep,), (brand_Kia,), (brand_Lamborghini,), (brand_Land,), (brand_Lexus,), (brand_Lotus,), (brand_MINI,), (brand_Maserati,), (brand_Mazda,), (brand_McLaren,), (brand_Mercedes-Benz,), (brand_Nissan,), (brand_Porsche,), (brand_Scion,), (brand_Subaru,), (brand_Tesla,), (brand_Toyota,), (brand_Volkswagen,), (model_135,), (model_200,), (model_300,), (model_320,), (model_328,), (model_335,), (model_4Runner,), (model_530,), (model_535,), (model_570S,), (model_675LT,), (model_750,), (model_911,), (model_A4,), (model_A7,), (model_AMG,), (model_ATS-V,), (model_Accord,), (model_Altima,), (model_Aventador,), (model_Boxster,), (model_CLS400,), (model_CTS,), (model_CTS-V,), (model_Camaro,), (model_Camry,), (model_Cayenne,), (model_Cayman,), (model_Challenger,), (model_Charger,), (model_Civic,), (model_Cooper,), (model_Corvette,), (model_Crosstrek,), (model_Cruze,), (model_Durango,), (model_E,), (model_Escalade,), (model_Evora,), (model_F-150,), (model_F-TYPE,), (model_FR-S,), (model_FX50,), (model_Fiesta,), (model_Fit,), (model_Focus,), (model_GLK,), (model_GLS,), (model_GT-R,), (model_GTI,), (model_Gallardo,), (model_Ghibli,), (model_Golf,), (model_Grand,), (model_Highlander,), (model_ILX,), (model_IS,), (model_Impala,), (model_Levante,), (model_M2,), (model_M3,), (model_M4,), (model_M5,), (model_M6,), (model_ML,), (model_MX-5,), (model_Macan,), (model_Magnum,), ...]\n",
       "Index: []\n",
       "\n",
       "[0 rows x 139 columns]"
      ]
     },
     "execution_count": 42,
     "metadata": {},
     "output_type": "execute_result"
    }
   ],
   "source": [
    "target"
   ]
  },
  {
   "cell_type": "code",
   "execution_count": 57,
   "metadata": {
    "ExecuteTime": {
     "end_time": "2018-04-10T03:12:29.692406Z",
     "start_time": "2018-04-10T03:12:29.683541Z"
    }
   },
   "outputs": [],
   "source": [
    "numerical_features = ['year', 'miles']\n",
    "target[numerical_features] = np.log1p(target[numerical_features])"
   ]
  },
  {
   "cell_type": "code",
   "execution_count": 58,
   "metadata": {
    "ExecuteTime": {
     "end_time": "2018-04-10T03:12:31.897984Z",
     "start_time": "2018-04-10T03:12:31.859048Z"
    }
   },
   "outputs": [
    {
     "data": {
      "text/html": [
       "<div>\n",
       "<style scoped>\n",
       "    .dataframe tbody tr th:only-of-type {\n",
       "        vertical-align: middle;\n",
       "    }\n",
       "\n",
       "    .dataframe tbody tr th {\n",
       "        vertical-align: top;\n",
       "    }\n",
       "\n",
       "    .dataframe thead tr th {\n",
       "        text-align: left;\n",
       "    }\n",
       "</style>\n",
       "<table border=\"1\" class=\"dataframe\">\n",
       "  <thead>\n",
       "    <tr>\n",
       "      <th></th>\n",
       "      <th>year</th>\n",
       "      <th>miles</th>\n",
       "      <th>brand_Acura</th>\n",
       "      <th>brand_Alfa</th>\n",
       "      <th>brand_Audi</th>\n",
       "      <th>brand_BMW</th>\n",
       "      <th>brand_Bentley</th>\n",
       "      <th>brand_Cadillac</th>\n",
       "      <th>brand_Chevrolet</th>\n",
       "      <th>brand_Chrysler</th>\n",
       "      <th>...</th>\n",
       "      <th>model_Tucson</th>\n",
       "      <th>model_Tundra</th>\n",
       "      <th>model_Viper</th>\n",
       "      <th>model_Volt</th>\n",
       "      <th>model_WRX</th>\n",
       "      <th>model_Wrangler</th>\n",
       "      <th>model_X-Type</th>\n",
       "      <th>model_X5</th>\n",
       "      <th>model_XJ</th>\n",
       "      <th>model_i8</th>\n",
       "    </tr>\n",
       "  </thead>\n",
       "  <tbody>\n",
       "    <tr>\n",
       "      <th>0</th>\n",
       "      <td>0.0</td>\n",
       "      <td>0.0</td>\n",
       "      <td>0.0</td>\n",
       "      <td>0.0</td>\n",
       "      <td>0.0</td>\n",
       "      <td>0.0</td>\n",
       "      <td>0.0</td>\n",
       "      <td>0.0</td>\n",
       "      <td>0.0</td>\n",
       "      <td>0.0</td>\n",
       "      <td>...</td>\n",
       "      <td>0.0</td>\n",
       "      <td>0.0</td>\n",
       "      <td>0.0</td>\n",
       "      <td>0.0</td>\n",
       "      <td>0.0</td>\n",
       "      <td>0.0</td>\n",
       "      <td>0.0</td>\n",
       "      <td>0.0</td>\n",
       "      <td>0.0</td>\n",
       "      <td>0.0</td>\n",
       "    </tr>\n",
       "  </tbody>\n",
       "</table>\n",
       "<p>1 rows × 147 columns</p>\n",
       "</div>"
      ],
      "text/plain": [
       "  year miles brand_Acura brand_Alfa brand_Audi brand_BMW brand_Bentley  \\\n",
       "0  0.0   0.0         0.0        0.0        0.0       0.0           0.0   \n",
       "\n",
       "  brand_Cadillac brand_Chevrolet brand_Chrysler   ...    model_Tucson  \\\n",
       "0            0.0             0.0            0.0   ...             0.0   \n",
       "\n",
       "  model_Tundra model_Viper model_Volt model_WRX model_Wrangler model_X-Type  \\\n",
       "0          0.0         0.0        0.0       0.0            0.0          0.0   \n",
       "\n",
       "  model_X5 model_XJ model_i8  \n",
       "0      0.0      0.0      0.0  \n",
       "\n",
       "[1 rows x 147 columns]"
      ]
     },
     "execution_count": 58,
     "metadata": {},
     "output_type": "execute_result"
    }
   ],
   "source": [
    "target"
   ]
  },
  {
   "cell_type": "code",
   "execution_count": 59,
   "metadata": {
    "ExecuteTime": {
     "end_time": "2018-04-10T03:12:32.885067Z",
     "start_time": "2018-04-10T03:12:32.875741Z"
    }
   },
   "outputs": [],
   "source": [
    "price_log = ml.predict(target)"
   ]
  },
  {
   "cell_type": "code",
   "execution_count": 60,
   "metadata": {
    "ExecuteTime": {
     "end_time": "2018-04-10T03:12:33.538588Z",
     "start_time": "2018-04-10T03:12:33.531294Z"
    }
   },
   "outputs": [
    {
     "data": {
      "text/plain": [
       "array([12.062366], dtype=float32)"
      ]
     },
     "execution_count": 60,
     "metadata": {},
     "output_type": "execute_result"
    }
   ],
   "source": [
    "price_log"
   ]
  },
  {
   "cell_type": "code",
   "execution_count": 61,
   "metadata": {
    "ExecuteTime": {
     "end_time": "2018-04-10T03:12:34.230463Z",
     "start_time": "2018-04-10T03:12:34.226482Z"
    }
   },
   "outputs": [
    {
     "data": {
      "text/plain": [
       "173228"
      ]
     },
     "execution_count": 61,
     "metadata": {},
     "output_type": "execute_result"
    }
   ],
   "source": [
    "price = np.exp(price_log)\n",
    "int(price)"
   ]
  },
  {
   "cell_type": "code",
   "execution_count": 62,
   "metadata": {},
   "outputs": [
    {
     "data": {
      "text/html": [
       "<div>\n",
       "<style scoped>\n",
       "    .dataframe tbody tr th:only-of-type {\n",
       "        vertical-align: middle;\n",
       "    }\n",
       "\n",
       "    .dataframe tbody tr th {\n",
       "        vertical-align: top;\n",
       "    }\n",
       "\n",
       "    .dataframe thead th {\n",
       "        text-align: right;\n",
       "    }\n",
       "</style>\n",
       "<table border=\"1\" class=\"dataframe\">\n",
       "  <thead>\n",
       "    <tr style=\"text-align: right;\">\n",
       "      <th></th>\n",
       "      <th>year</th>\n",
       "      <th>price</th>\n",
       "    </tr>\n",
       "  </thead>\n",
       "  <tbody>\n",
       "  </tbody>\n",
       "</table>\n",
       "</div>"
      ],
      "text/plain": [
       "Empty DataFrame\n",
       "Columns: [year, price]\n",
       "Index: []"
      ]
     },
     "execution_count": 62,
     "metadata": {},
     "output_type": "execute_result"
    }
   ],
   "source": [
    "same_model = actual_car_info[actual_car_info[\"model\"]==model] \n",
    "year_price = same_model[[\"year\", \"price\"]]\n",
    "year_price_list = year_price.groupby(\"year\").agg({'price':np.mean}).astype('int')\n",
    "year_price_list = year_price_list.reset_index()\n",
    "year_price_list"
   ]
  },
  {
   "cell_type": "code",
   "execution_count": 63,
   "metadata": {},
   "outputs": [],
   "source": [
    "year_price_list[\"year\"] = year_price_list[\"year\"].apply(lambda x: str(x) )"
   ]
  },
  {
   "cell_type": "code",
   "execution_count": 64,
   "metadata": {},
   "outputs": [],
   "source": [
    "year_price_list[\"price\"] = year_price_list[\"price\"].apply(lambda x: str(x) )"
   ]
  },
  {
   "cell_type": "code",
   "execution_count": 65,
   "metadata": {},
   "outputs": [
    {
     "data": {
      "text/plain": [
       "[]"
      ]
     },
     "execution_count": 65,
     "metadata": {},
     "output_type": "execute_result"
    }
   ],
   "source": [
    "list(year_price_list[\"price\"])"
   ]
  },
  {
   "cell_type": "code",
   "execution_count": null,
   "metadata": {},
   "outputs": [],
   "source": []
  }
 ],
 "metadata": {
  "hide_input": false,
  "kernelspec": {
   "display_name": "Python 3",
   "language": "python",
   "name": "python3"
  },
  "language_info": {
   "codemirror_mode": {
    "name": "ipython",
    "version": 3
   },
   "file_extension": ".py",
   "mimetype": "text/x-python",
   "name": "python",
   "nbconvert_exporter": "python",
   "pygments_lexer": "ipython3",
   "version": "3.6.3"
  },
  "latex_envs": {
   "LaTeX_envs_menu_present": true,
   "autoclose": false,
   "autocomplete": true,
   "bibliofile": "biblio.bib",
   "cite_by": "apalike",
   "current_citInitial": 1,
   "eqLabelWithNumbers": true,
   "eqNumInitial": 1,
   "hotkeys": {
    "equation": "Ctrl-E",
    "itemize": "Ctrl-I"
   },
   "labels_anchors": false,
   "latex_user_defs": false,
   "report_style_numbering": false,
   "user_envs_cfg": false
  },
  "toc": {
   "nav_menu": {},
   "number_sections": true,
   "sideBar": true,
   "skip_h1_title": false,
   "title_cell": "Table of Contents",
   "title_sidebar": "Contents",
   "toc_cell": false,
   "toc_position": {},
   "toc_section_display": true,
   "toc_window_display": false
  }
 },
 "nbformat": 4,
 "nbformat_minor": 2
}
